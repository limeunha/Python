{
 "cells": [
  {
   "cell_type": "code",
   "execution_count": 2,
   "id": "272b508d-5789-4589-8c71-da28bb2cab1b",
   "metadata": {},
   "outputs": [
    {
     "name": "stdout",
     "output_type": "stream",
     "text": [
      "10\n"
     ]
    }
   ],
   "source": [
    "# 1. abs()\n",
    "# 설명: 숫자의 절대값을 반환합니다.\n",
    "\n",
    "print(abs(-10)) "
   ]
  },
  {
   "cell_type": "code",
   "execution_count": 4,
   "id": "e2fda427-0839-4149-80b8-e799dd6612b1",
   "metadata": {},
   "outputs": [
    {
     "name": "stdout",
     "output_type": "stream",
     "text": [
      "True\n",
      "False\n"
     ]
    }
   ],
   "source": [
    "# 2. all()\n",
    "# 설명: iterable의 모든 요소가 참이면 True를 반환합니다.\n",
    "\n",
    "print(all([True, 1, \"a\"]))  # 출력: True\n",
    "print(all([True, 0, \"a\"]))  # 출력: False"
   ]
  },
  {
   "cell_type": "code",
   "execution_count": 5,
   "id": "995ff13b-9d20-4580-9aa3-7e77e23d7e1a",
   "metadata": {},
   "outputs": [
    {
     "name": "stdout",
     "output_type": "stream",
     "text": [
      "True\n",
      "False\n"
     ]
    }
   ],
   "source": [
    "# 3. any()\n",
    "# 설명: iterable에 하나라도 참인 요소가 있으면 True를 반환합니다.\n",
    "\n",
    "print(any([False, 0, \"a\"]))  # 출력: True\n",
    "print(any([False, 0, None]))  # 출력: False"
   ]
  },
  {
   "cell_type": "code",
   "execution_count": 7,
   "id": "e36ff55e-7684-41f6-bceb-c7d0265082e8",
   "metadata": {},
   "outputs": [
    {
     "name": "stdout",
     "output_type": "stream",
     "text": [
      "A\n"
     ]
    }
   ],
   "source": [
    "# 4. chr()\n",
    "# 설명: 정수를 유니코드 문자로 변환합니다.\n",
    "\n",
    "print(chr(65))  # 출력: 'A'"
   ]
  },
  {
   "cell_type": "code",
   "execution_count": 8,
   "id": "2d9cef0a-dada-405e-af53-2eb4667d36ef",
   "metadata": {},
   "outputs": [
    {
     "name": "stdout",
     "output_type": "stream",
     "text": [
      "['__add__', '__class__', '__class_getitem__', '__contains__', '__delattr__', '__delitem__', '__dir__', '__doc__', '__eq__', '__format__', '__ge__', '__getattribute__', '__getitem__', '__getstate__', '__gt__', '__hash__', '__iadd__', '__imul__', '__init__', '__init_subclass__', '__iter__', '__le__', '__len__', '__lt__', '__mul__', '__ne__', '__new__', '__reduce__', '__reduce_ex__', '__repr__', '__reversed__', '__rmul__', '__setattr__', '__setitem__', '__sizeof__', '__str__', '__subclasshook__', 'append', 'clear', 'copy', 'count', 'extend', 'index', 'insert', 'pop', 'remove', 'reverse', 'sort']\n"
     ]
    }
   ],
   "source": [
    "# 5. dir()\n",
    "# 설명: 객체가 지닌 변수나 함수를 보여주는 함수\n",
    "\n",
    "print(dir([]))  # 출력: 리스트 객체의 메서드 목록"
   ]
  },
  {
   "cell_type": "code",
   "execution_count": 9,
   "id": "cb13f2ed-5681-46db-ac26-7a7523969ae7",
   "metadata": {},
   "outputs": [
    {
     "name": "stdout",
     "output_type": "stream",
     "text": [
      "(2, 1)\n"
     ]
    }
   ],
   "source": [
    "# 6. divmod()\n",
    "# 설명: 두 숫자를 나눈 몫과 나머지를 튜플로 반환합니다.\n",
    "\n",
    "print(divmod(7, 3))  # 출력: (2, 1)"
   ]
  },
  {
   "cell_type": "code",
   "execution_count": 10,
   "id": "47f7d737-05e5-4fe8-b8a4-b746cbb1a5a8",
   "metadata": {},
   "outputs": [
    {
     "name": "stdout",
     "output_type": "stream",
     "text": [
      "0 a\n",
      "1 b\n"
     ]
    }
   ],
   "source": [
    "# 7. enumerate()\n",
    "# 설명: iterable에서 (인덱스, 값) 형태의 튜플을 반환합니다.\n",
    "\n",
    "for i, v in enumerate(['a', 'b']):\n",
    "    print(i, v)  # 출력: 0 a, 1 b"
   ]
  },
  {
   "cell_type": "code",
   "execution_count": 11,
   "id": "1c8fd5d2-f77c-4bf0-ab2b-2fd26537334d",
   "metadata": {},
   "outputs": [
    {
     "name": "stdout",
     "output_type": "stream",
     "text": [
      "3\n"
     ]
    }
   ],
   "source": [
    "# 8. eval()\n",
    "# 설명: 문자열로 된 표현식을 실행합니다.\n",
    "\n",
    "print(eval(\"1 + 2\"))  # 출력: 3"
   ]
  },
  {
   "cell_type": "code",
   "execution_count": 13,
   "id": "c25eb30b-ebd0-4007-9633-41eaffba8e35",
   "metadata": {},
   "outputs": [
    {
     "name": "stdout",
     "output_type": "stream",
     "text": [
      "[1, 2, 6]\n"
     ]
    }
   ],
   "source": [
    "# 9. filter()\n",
    "# 설명: 조건을 만족하는 요소만 반환합니다.\n",
    "\n",
    "def positive(x):\n",
    "    return x > 0\n",
    "\n",
    "print(list(filter(positive, [1, -3, 2, 0, -5, 6])))"
   ]
  },
  {
   "cell_type": "code",
   "execution_count": 14,
   "id": "7319c865-de9e-4997-ae5b-df8efeced69d",
   "metadata": {},
   "outputs": [
    {
     "name": "stdout",
     "output_type": "stream",
     "text": [
      "0xff\n"
     ]
    }
   ],
   "source": [
    "# 10. hex()\n",
    "# 설명: 정수를 16진수 문자열로 변환합니다.\n",
    "\n",
    "print(hex(255))  # 출력: '0xff'"
   ]
  },
  {
   "cell_type": "code",
   "execution_count": 20,
   "id": "a91558ba-8719-4af5-a1b0-40376e4a0ce7",
   "metadata": {},
   "outputs": [
    {
     "name": "stdout",
     "output_type": "stream",
     "text": [
      "140731569744376\n",
      "140731569744376\n",
      "140731569744376\n"
     ]
    }
   ],
   "source": [
    "# 11. id()\n",
    "# 설명: 객체의 고유 식별자를 반환합니다.\n",
    "# 3, a, b가 모두 같은 객체를 가리키고 있다.\n",
    "\n",
    "a = 3\n",
    "b = a\n",
    "\n",
    "print(id(3))\n",
    "print(id(a))\n",
    "print(id(b))"
   ]
  },
  {
   "cell_type": "code",
   "execution_count": 21,
   "id": "33b1c178-e2c3-4f1a-b984-20e1875fb0e0",
   "metadata": {},
   "outputs": [
    {
     "name": "stdin",
     "output_type": "stream",
     "text": [
      "Enter your name:  하서\n"
     ]
    },
    {
     "name": "stdout",
     "output_type": "stream",
     "text": [
      "Hello, 하서\n"
     ]
    }
   ],
   "source": [
    "# 12. input()\n",
    "# 설명: 사용자 입력을 받습니다.\n",
    "\n",
    "name = input(\"Enter your name: \")\n",
    "print(f\"Hello, {name}\")"
   ]
  },
  {
   "cell_type": "code",
   "execution_count": 22,
   "id": "c5c3efd0-1464-44e9-9c7a-82c6b37eff6c",
   "metadata": {},
   "outputs": [
    {
     "name": "stdout",
     "output_type": "stream",
     "text": [
      "123\n",
      "12\n"
     ]
    }
   ],
   "source": [
    "# 13. int()\n",
    "# 설명: 값을 정수로 변환합니다.\n",
    "\n",
    "print(int(\"123\"))  # 출력: 123\n",
    "print(int(12.5))   # 출력: 12"
   ]
  },
  {
   "cell_type": "code",
   "execution_count": 26,
   "id": "f8d4fee6-b8ab-47f8-8e79-3a9f5abc7a26",
   "metadata": {},
   "outputs": [
    {
     "data": {
      "text/plain": [
       "True"
      ]
     },
     "execution_count": 26,
     "metadata": {},
     "output_type": "execute_result"
    }
   ],
   "source": [
    "# 14. isinstance()\n",
    "# 설명: 객체가 특정 클래스의 인스턴스인지 확인합니다.\n",
    "\n",
    "class Person: pass\n",
    "\n",
    "a = Person()\n",
    "isinstance(a, Person)"
   ]
  },
  {
   "cell_type": "code",
   "execution_count": 27,
   "id": "03c29bd2-2c8b-4887-a3df-ce56f49909c9",
   "metadata": {},
   "outputs": [
    {
     "name": "stdout",
     "output_type": "stream",
     "text": [
      "3\n"
     ]
    }
   ],
   "source": [
    "# 15. len()\n",
    "# 설명: 객체의 길이를 반환합니다.\n",
    "\n",
    "print(len([1, 2, 3]))  # 출력: 3"
   ]
  },
  {
   "cell_type": "code",
   "execution_count": 28,
   "id": "ab1fc268-a4ff-410a-80e2-e9cc2a50733b",
   "metadata": {},
   "outputs": [
    {
     "name": "stdout",
     "output_type": "stream",
     "text": [
      "['a', 'b', 'c']\n"
     ]
    }
   ],
   "source": [
    "# 16. list()\n",
    "# 설명: 값을 리스트로 변환합니다.\n",
    "\n",
    "print(list(\"abc\"))  # 출력: ['a', 'b', 'c']"
   ]
  },
  {
   "cell_type": "code",
   "execution_count": 30,
   "id": "e4fdf1c1-b772-44d1-a5c3-5ee3028dcbad",
   "metadata": {},
   "outputs": [
    {
     "data": {
      "text/plain": [
       "[2, 4, 6, 8]"
      ]
     },
     "execution_count": 30,
     "metadata": {},
     "output_type": "execute_result"
    }
   ],
   "source": [
    "# 17. map()\n",
    "# 설명: 함수와 iterable을 받아 각 요소에 함수를 적용합니다.\n",
    "    \n",
    "def two_times(x): \n",
    "     return x*2\n",
    "\n",
    "list(map(two_times, [1, 2, 3, 4]))"
   ]
  },
  {
   "cell_type": "code",
   "execution_count": 31,
   "id": "7b1d0e3e-fe46-40b0-9721-3284ac5c7635",
   "metadata": {},
   "outputs": [
    {
     "name": "stdout",
     "output_type": "stream",
     "text": [
      "3\n"
     ]
    }
   ],
   "source": [
    "# 18. max()\n",
    "# 설명: iterable에서 최댓값을 반환합니다.\n",
    "\n",
    "print(max([1, 2, 3]))  # 출력: 3"
   ]
  },
  {
   "cell_type": "code",
   "execution_count": 32,
   "id": "c5fb126f-19fa-434b-a9de-b2aae85c94b2",
   "metadata": {},
   "outputs": [
    {
     "name": "stdout",
     "output_type": "stream",
     "text": [
      "1\n"
     ]
    }
   ],
   "source": [
    "# 19. min()\n",
    "# 설명: iterable에서 최솟값을 반환합니다.\n",
    "\n",
    "print(min([1, 2, 3]))  # 출력: 1"
   ]
  },
  {
   "cell_type": "code",
   "execution_count": 33,
   "id": "0a6cec3b-438e-48b1-8144-6d8f3604efb7",
   "metadata": {},
   "outputs": [
    {
     "name": "stdout",
     "output_type": "stream",
     "text": [
      "0o10\n"
     ]
    }
   ],
   "source": [
    "# 20. oct()\n",
    "# 설명: 정수를 8진수 문자열로 변환합니다.\n",
    "\n",
    "print(oct(8))  # 출력: '0o10'"
   ]
  },
  {
   "cell_type": "code",
   "execution_count": 34,
   "id": "8725fd9e-25c5-4b94-84f8-4a3e6a5e08d8",
   "metadata": {},
   "outputs": [
    {
     "name": "stdout",
     "output_type": "stream",
     "text": [
      "65\n"
     ]
    }
   ],
   "source": [
    "# 22. ord()\n",
    "# 설명: 문자를 정수 유니코드로 변환합니다.\n",
    "\n",
    "print(ord('A'))  # 출력: 65"
   ]
  },
  {
   "cell_type": "code",
   "execution_count": 36,
   "id": "b5d6824c-7f93-46a2-a053-30642a15440a",
   "metadata": {},
   "outputs": [
    {
     "name": "stdout",
     "output_type": "stream",
     "text": [
      "8\n"
     ]
    }
   ],
   "source": [
    "# 23. pow()\n",
    "# 설명: 거듭제곱을 계산합니다.\n",
    "\n",
    "print(pow(2, 3))       # 출력: 8"
   ]
  },
  {
   "cell_type": "code",
   "execution_count": 37,
   "id": "f30bbbdd-e8a5-415b-8db1-0473a28d63a6",
   "metadata": {},
   "outputs": [
    {
     "name": "stdout",
     "output_type": "stream",
     "text": [
      "[0, 1, 2, 3, 4]\n",
      "[1, 2, 3, 4]\n",
      "[1, 3, 5, 7, 9]\n"
     ]
    }
   ],
   "source": [
    "# 24. range()\n",
    "# 설명: 정수 범위를 생성합니다.\n",
    "\n",
    "print(list(range(5)))       # 출력: [0, 1, 2, 3, 4]\n",
    "print(list(range(1, 5)))    # 출력: [1, 2, 3, 4]\n",
    "print(list(range(1, 10, 2))) # 출력: [1, 3, 5, 7, 9]"
   ]
  },
  {
   "cell_type": "code",
   "execution_count": 38,
   "id": "e44ceea5-9696-41a2-9012-7c4efc1e0718",
   "metadata": {},
   "outputs": [
    {
     "name": "stdout",
     "output_type": "stream",
     "text": [
      "3.14\n"
     ]
    }
   ],
   "source": [
    "# 25. round()\n",
    "# 설명: 숫자를 반올림합니다.\n",
    "\n",
    "print(round(3.14159, 2))  # 출력: 3.14"
   ]
  },
  {
   "cell_type": "code",
   "execution_count": 44,
   "id": "62d3822e-008f-44b9-ba26-65c041e11455",
   "metadata": {},
   "outputs": [
    {
     "name": "stdout",
     "output_type": "stream",
     "text": [
      "[1, 2, 3]\n",
      "['a', 'b', 'c']\n",
      "['가', '나', '다']\n"
     ]
    }
   ],
   "source": [
    "# 26. sorted()\n",
    "# 설명: iterable을 오름차순으로 정렬한 리스트를 반환합니다.\n",
    "\n",
    "print(sorted([3, 1, 2]))  # 출력: [1, 2, 3]\n",
    "print(sorted(['c', 'a', 'b'])) \n",
    "print(sorted(['나', '다', '가']))"
   ]
  },
  {
   "cell_type": "code",
   "execution_count": 42,
   "id": "2bc41f39-dd0a-4be9-9e5a-0f6c637a0229",
   "metadata": {},
   "outputs": [
    {
     "name": "stdout",
     "output_type": "stream",
     "text": [
      "123\n"
     ]
    }
   ],
   "source": [
    "# 27. str()\n",
    "# 설명: 값을 문자열로 변환합니다.\n",
    "\n",
    "print(str(123))  # 출력: '123'\n"
   ]
  },
  {
   "cell_type": "code",
   "execution_count": 45,
   "id": "79258588-4baa-4550-b388-bf29f547790e",
   "metadata": {},
   "outputs": [
    {
     "name": "stdout",
     "output_type": "stream",
     "text": [
      "6\n"
     ]
    }
   ],
   "source": [
    "# 28. sum()\n",
    "# 설명: iterable의 합을 반환합니다.\n",
    "\n",
    "print(sum([1, 2, 3]))  # 출력: 6"
   ]
  },
  {
   "cell_type": "code",
   "execution_count": 46,
   "id": "69d843ec-917a-4c4a-bc99-bdb66c4492c9",
   "metadata": {},
   "outputs": [
    {
     "name": "stdout",
     "output_type": "stream",
     "text": [
      "(1, 2, 3)\n"
     ]
    }
   ],
   "source": [
    "# 29. tuple()\n",
    "# 설명: 값을 튜플로 변환합니다.\n",
    "\n",
    "print(tuple([1, 2, 3]))  # 출력: (1, 2, 3)"
   ]
  },
  {
   "cell_type": "code",
   "execution_count": 47,
   "id": "7fd66116-1de4-49fd-8ddb-9a4360bd4d07",
   "metadata": {},
   "outputs": [
    {
     "name": "stdout",
     "output_type": "stream",
     "text": [
      "<class 'int'>\n"
     ]
    }
   ],
   "source": [
    "# 30. type()\n",
    "# 설명: 객체의 타입을 반환합니다.\n",
    "\n",
    "print(type(123))  # 출력: <class 'int'>"
   ]
  },
  {
   "cell_type": "code",
   "execution_count": 48,
   "id": "2d93c7b9-cd04-4b3c-934f-821e2fde12fc",
   "metadata": {},
   "outputs": [
    {
     "name": "stdout",
     "output_type": "stream",
     "text": [
      "[(1, 'a'), (2, 'b')]\n"
     ]
    }
   ],
   "source": [
    "# 31. zip()\n",
    "# 설명: 여러 iterable의 요소를 묶어 튜플 형태로 반환합니다.\n",
    "\n",
    "print(list(zip([1, 2], ['a', 'b'])))  # 출력: [(1, 'a'), (2, 'b')]"
   ]
  },
  {
   "cell_type": "code",
   "execution_count": null,
   "id": "0f942766-5f69-4c92-9ae0-186a39e48904",
   "metadata": {},
   "outputs": [],
   "source": []
  }
 ],
 "metadata": {
  "kernelspec": {
   "display_name": "Python 3 (ipykernel)",
   "language": "python",
   "name": "python3"
  },
  "language_info": {
   "codemirror_mode": {
    "name": "ipython",
    "version": 3
   },
   "file_extension": ".py",
   "mimetype": "text/x-python",
   "name": "python",
   "nbconvert_exporter": "python",
   "pygments_lexer": "ipython3",
   "version": "3.12.7"
  }
 },
 "nbformat": 4,
 "nbformat_minor": 5
}
