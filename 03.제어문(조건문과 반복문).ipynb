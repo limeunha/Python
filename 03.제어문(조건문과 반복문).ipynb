{
 "cells": [
  {
   "cell_type": "markdown",
   "id": "4611f6fe-3334-4425-ab2b-dc6b0c45d165",
   "metadata": {},
   "source": [
    "### 1. if문"
   ]
  },
  {
   "cell_type": "code",
   "execution_count": 80,
   "id": "baab6f86-0a3c-4834-a4a2-0b540f1bb116",
   "metadata": {},
   "outputs": [
    {
     "name": "stdout",
     "output_type": "stream",
     "text": [
      "택시타고가기\n"
     ]
    }
   ],
   "source": [
    "# if문: 조건식의 결과가 true일때 실행 \n",
    "\n",
    "# 조건: 돈이 있다면 택시타고 가기\n",
    "money = True\n",
    "\n",
    "if money: \n",
    "    print(\"택시타고가기\")"
   ]
  },
  {
   "cell_type": "code",
   "execution_count": 82,
   "id": "7ea49dab-f35d-49d4-a27f-da2efd7ebe9d",
   "metadata": {},
   "outputs": [
    {
     "name": "stdout",
     "output_type": "stream",
     "text": [
      "택시타고가기\n"
     ]
    }
   ],
   "source": [
    "# if else 문: 조건식의 결과가 true일때 실행하고 false라면 else문을 실행\n",
    "\n",
    "# 조건: 돈이 있다면 택시타고 가고 그렇지 않으면 걸어가기\n",
    "\n",
    "money = True\n",
    "\n",
    "if money: \n",
    "    print(\"택시타고가기\")\n",
    "else: \n",
    "    print(\"걸어가기\")"
   ]
  },
  {
   "cell_type": "code",
   "execution_count": 34,
   "id": "0488d9da-dfc6-48cf-8597-1874f3d28ecf",
   "metadata": {},
   "outputs": [
    {
     "ename": "IndentationError",
     "evalue": "expected an indented block after 'if' statement on line 5 (2785498007.py, line 6)",
     "output_type": "error",
     "traceback": [
      "\u001b[1;36m  Cell \u001b[1;32mIn[34], line 6\u001b[1;36m\u001b[0m\n\u001b[1;33m    print(\"택시타고가기\")\u001b[0m\n\u001b[1;37m    ^\u001b[0m\n\u001b[1;31mIndentationError\u001b[0m\u001b[1;31m:\u001b[0m expected an indented block after 'if' statement on line 5\n"
     ]
    }
   ],
   "source": [
    "# 들여쓰기 주의\n",
    "\n",
    "money = True\n",
    "\n",
    "if money: \n",
    "print(\"택시타고가기\")"
   ]
  },
  {
   "cell_type": "code",
   "execution_count": 36,
   "id": "1593a72a-7b11-4b3b-b7dd-1cce89b51b8f",
   "metadata": {},
   "outputs": [
    {
     "name": "stdout",
     "output_type": "stream",
     "text": [
      "택시타고가기\n",
      "걸어가기\n"
     ]
    }
   ],
   "source": [
    "# 들여쓰기 주의\n",
    "\n",
    "money = True\n",
    "\n",
    "if money: \n",
    "    print(\"택시타고가기\")\n",
    "print(\"걸어가기\")"
   ]
  },
  {
   "cell_type": "code",
   "execution_count": 44,
   "id": "9fa3d87d-dd6d-4359-be3b-3dc3fac04698",
   "metadata": {},
   "outputs": [
    {
     "ename": "IndentationError",
     "evalue": "expected an indented block after 'else' statement on line 8 (20837253.py, line 9)",
     "output_type": "error",
     "traceback": [
      "\u001b[1;36m  Cell \u001b[1;32mIn[44], line 9\u001b[1;36m\u001b[0m\n\u001b[1;33m    print(\"걸어가기\")\u001b[0m\n\u001b[1;37m    ^\u001b[0m\n\u001b[1;31mIndentationError\u001b[0m\u001b[1;31m:\u001b[0m expected an indented block after 'else' statement on line 8\n"
     ]
    }
   ],
   "source": [
    "# 들여쓰기 주의\n",
    "\n",
    "money = True\n",
    "\n",
    "if money: \n",
    "    print(\"택시타고가기\")\n",
    "    print(\"혹은 버스타고가기\")\n",
    "else:\n",
    "print(\"걸어가기\")"
   ]
  },
  {
   "cell_type": "code",
   "execution_count": 48,
   "id": "1207a98b-3fb6-4528-944a-71a888deb293",
   "metadata": {},
   "outputs": [
    {
     "name": "stdout",
     "output_type": "stream",
     "text": [
      "택시타고가기\n",
      "혹은 버스타고가기\n",
      "버스타고가기\n"
     ]
    }
   ],
   "source": [
    "# 들여쓰기 주의\n",
    "\n",
    "money = True\n",
    "\n",
    "if money: \n",
    "    print(\"택시타고가기\")\n",
    "    print(\"혹은 버스타고가기\")\n",
    "else:\n",
    "    print(\"걸어가기\")\n",
    "print(\"버스타고가기\")"
   ]
  },
  {
   "cell_type": "code",
   "execution_count": 56,
   "id": "c567837e-3db3-4abe-8a5a-86ba60952f13",
   "metadata": {},
   "outputs": [
    {
     "name": "stdout",
     "output_type": "stream",
     "text": [
      "False\n",
      "True\n",
      "False\n",
      "True\n"
     ]
    }
   ],
   "source": [
    "# 비교 연산자\n",
    "\n",
    "x = 3\n",
    "y = 2\n",
    "\n",
    "print(x < y)\n",
    "print(x >= y)\n",
    "print(x == y)\n",
    "print(x != y)"
   ]
  },
  {
   "cell_type": "code",
   "execution_count": 62,
   "id": "1893f045-969d-4571-8c1b-9ccb11b4cdcd",
   "metadata": {},
   "outputs": [
    {
     "name": "stdout",
     "output_type": "stream",
     "text": [
      "걸어가기\n"
     ]
    }
   ],
   "source": [
    "# 돈이 3000원 이상이면 택시를 타고가고, 그렇지 않으면 걸어가기\n",
    "\n",
    "money = 2000\n",
    "\n",
    "if money >= 3000:\n",
    "    print(\"택시타고가기\")\n",
    "else:\n",
    "    print(\"걸어가기\")"
   ]
  },
  {
   "cell_type": "code",
   "execution_count": 76,
   "id": "0d08236c-39cb-4939-9d02-7f755dccd18c",
   "metadata": {},
   "outputs": [
    {
     "name": "stdout",
     "output_type": "stream",
     "text": [
      "False\n",
      "True\n",
      "True\n",
      "False\n"
     ]
    }
   ],
   "source": [
    "# and, or, not 연산자\n",
    "\n",
    "# and: 둘다 true여야 true\n",
    "# or: 둘중 하나만 true이면 true\n",
    "# not: 반대로\n",
    "\n",
    "x = 3\n",
    "y = 2\n",
    "\n",
    "print(x < y and x > y)\n",
    "print(x >= y and x > y)\n",
    "print(x == y or x >= y)\n",
    "print(not x != y)"
   ]
  },
  {
   "cell_type": "code",
   "execution_count": 78,
   "id": "305498b9-1949-46c8-a813-07d5f46b1ccd",
   "metadata": {},
   "outputs": [
    {
     "name": "stdout",
     "output_type": "stream",
     "text": [
      "택시타고가기\n"
     ]
    }
   ],
   "source": [
    "# 돈이 3000원 이상 있거나 카드가 있다면 택시를 타고가고, 그렇지 않으면 걸어가기\n",
    "\n",
    "money = 2000\n",
    "card = True\n",
    "\n",
    "if money >= 3000 or card:\n",
    "    print(\"택시타고가기\")\n",
    "else:\n",
    "    print(\"걸어가기\")"
   ]
  },
  {
   "cell_type": "code",
   "execution_count": 106,
   "id": "b7b8db74-9c44-4eb0-bc6e-43064f53c61b",
   "metadata": {},
   "outputs": [
    {
     "name": "stdout",
     "output_type": "stream",
     "text": [
      "택시타고가기\n"
     ]
    }
   ],
   "source": [
    "# 돈이 3000원 이상이고 집까지의 거리가 10km이상이라면 택시를 타고, 그렇지 않으면 걸어가기  \n",
    "\n",
    "money = 50000\n",
    "home = 11 #집까지의 거리(11km)\n",
    "\n",
    "if money >= 3000 and home >= 10:\n",
    "    print(\"택시타고가기\")\n",
    "else:\n",
    "    print(\"걸어가기\")"
   ]
  },
  {
   "cell_type": "code",
   "execution_count": 108,
   "id": "f467c2f4-e4cf-4000-a2cd-7ad7610d6e6c",
   "metadata": {},
   "outputs": [
    {
     "name": "stdout",
     "output_type": "stream",
     "text": [
      "택시타고가기\n"
     ]
    }
   ],
   "source": [
    "# 돈이 3000원 이상이고 집까지의 거리가 10km이상이거나 시간이 22시가 넘었다면 택시를 타고, 그렇지 않으면 걸어가기  \n",
    "\n",
    "money = 50000\n",
    "home = 11 # 집까지의 거리(11km)\n",
    "time = 23 # 현재 시간(23시)\n",
    "\n",
    "if money >= 3000 and (home >= 10 or time >= 22):\n",
    "    print(\"택시타고가기\")\n",
    "else:\n",
    "    print(\"걸어가기\")"
   ]
  },
  {
   "cell_type": "code",
   "execution_count": 122,
   "id": "3eb1e1ee-af9c-4faa-93c0-9bd95d981d0d",
   "metadata": {},
   "outputs": [
    {
     "name": "stdout",
     "output_type": "stream",
     "text": [
      "True\n",
      "False\n",
      "True\n",
      "True\n",
      "False\n"
     ]
    }
   ],
   "source": [
    "# in, not in\n",
    "\n",
    "print( 1 in [1, 2, 3] ) # 1이 [1,2,3] 리스트 안에 있는가?\n",
    "print( 1 not in [1, 2, 3]) # 1이 [1,2,3] 리스트 안에 없는가?\n",
    "print( 'a' in ('a', 'b', 'c')) # a가 (a, b, c ) 튜플 안에 있는가?\n",
    "print('j' not in 'python') # 'j'가  'python'에 없는가?\n",
    "print('j' in 'python') # 'j'가  'python'에 있는가?"
   ]
  },
  {
   "cell_type": "code",
   "execution_count": 128,
   "id": "4c07f8f8-9bda-4594-ada4-1d4cb24f9056",
   "metadata": {},
   "outputs": [
    {
     "name": "stdout",
     "output_type": "stream",
     "text": [
      "택시타고가기\n"
     ]
    }
   ],
   "source": [
    "# 주머니에 돈이 있으면 택시를 타고, 없으면 걸어가기\n",
    "\n",
    "pocket = ['paper', 'cellphone', 'money']\n",
    "if 'money' in pocket:\n",
    "    print(\"택시타고가기\")\n",
    "else:\n",
    "    print(\"걸어가기\")"
   ]
  },
  {
   "cell_type": "code",
   "execution_count": 130,
   "id": "af47d69b-1db8-4707-a952-7f15a866126f",
   "metadata": {},
   "outputs": [],
   "source": [
    "# 조건문에 아무일도 일어나지 않게 설정하고 싶을때\n",
    "\n",
    "# 주머니에 돈이 있으면 가만히 있고, 돈이 없으면 카드 꺼내기\n",
    "pocket = ['paper', 'cellphone', 'money']\n",
    "if 'money' in pocket:\n",
    "    pass\n",
    "else:\n",
    "    print(\"카드꺼내기\")"
   ]
  },
  {
   "cell_type": "code",
   "execution_count": 132,
   "id": "018cb34a-c5f9-4fe4-87a5-fe53b46bdd08",
   "metadata": {},
   "outputs": [
    {
     "name": "stdout",
     "output_type": "stream",
     "text": [
      "택시타고가기\n"
     ]
    }
   ],
   "source": [
    "# elif문: 다양한 조건을 처리해야 할때\n",
    "\n",
    "# 주머니에 돈이 있으면 택시를 타고 가고, 주머니에 돈은 없지만 카드가 있으면 택스를 타고 가고, 돈도 없고 카드도 없으면 걸어가라.\n",
    "\n",
    "pocket = ['paper', 'cellphone']\n",
    "card = True\n",
    "\n",
    "if 'money' in pocket:\n",
    "    print(\"택시타고가기\")\n",
    "else:\n",
    "    if card:\n",
    "        print(\"택시타고가기\")\n",
    "    else:\n",
    "        print(\"걸어가기\")\n",
    "\n"
   ]
  },
  {
   "cell_type": "code",
   "execution_count": 136,
   "id": "b3acf989-13f1-46e6-82b2-e28db9dbddb5",
   "metadata": {},
   "outputs": [
    {
     "name": "stdout",
     "output_type": "stream",
     "text": [
      "택시타고가기\n"
     ]
    }
   ],
   "source": [
    "pocket = ['paper', 'cellphone']\n",
    "card = True\n",
    "\n",
    "if 'money' in pocket: #주머니에 돈이 있으면\n",
    "    print(\"택시타고가기\")\n",
    "elif card: #주머니에 돈이 없고 카드가 있으면\n",
    "    print(\"택시타고가기\")\n",
    "else: #주머니에 돈도 없고 카드도 없으면\n",
    "    print(\"걸어가기\")\n",
    "\n"
   ]
  },
  {
   "cell_type": "code",
   "execution_count": 142,
   "id": "59f65a4d-a2f0-4cc9-8eac-6440def1ccf0",
   "metadata": {},
   "outputs": [
    {
     "name": "stdout",
     "output_type": "stream",
     "text": [
      "택시타기\n"
     ]
    }
   ],
   "source": [
    "# if문 한줄로 작성하기\n",
    "# if 혹은 else에 수행할 문장이 하나라면 아래와 같이 작성가능하다\n",
    "\n",
    "pocket = ['paper', 'cellphone', 'money']\n",
    "if 'money' in pocket: print(\"택시타기\")\n",
    "else: print(\"카드꺼내기\")"
   ]
  },
  {
   "cell_type": "code",
   "execution_count": 152,
   "id": "a5a4226e-ce76-45d7-879c-e078956211cf",
   "metadata": {},
   "outputs": [
    {
     "name": "stdout",
     "output_type": "stream",
     "text": [
      "success\n"
     ]
    }
   ],
   "source": [
    "# 조건부 표현식\n",
    "\n",
    "# score가 60점 이상일 경우 msg문자열에 \"success\" 아닐경우 \"fail\"을 대입\n",
    "\n",
    "score = 70\n",
    "\n",
    "if score >= 60:\n",
    "    msg = \"success\"\n",
    "else:\n",
    "    msg = \"fail\"\n",
    "\n",
    "print(msg)"
   ]
  },
  {
   "cell_type": "code",
   "execution_count": 150,
   "id": "82d97c7a-0e54-410a-ad88-59b518c67be8",
   "metadata": {},
   "outputs": [
    {
     "name": "stdout",
     "output_type": "stream",
     "text": [
      "success\n"
     ]
    }
   ],
   "source": [
    "# 조건부 표현식으로 아래와 같이 개선\n",
    "\n",
    "msg = \"success\" if score >= 60 else \"fail\"\n",
    "\n",
    "print(msg)"
   ]
  },
  {
   "cell_type": "markdown",
   "id": "17d65901-145a-4d08-8d90-76b2aace7f39",
   "metadata": {},
   "source": [
    "### 2. while문"
   ]
  },
  {
   "cell_type": "code",
   "execution_count": 8,
   "id": "115a64c6-0810-466d-873d-91c542e2543d",
   "metadata": {},
   "outputs": [
    {
     "name": "stdout",
     "output_type": "stream",
     "text": [
      "1\n",
      "2\n",
      "3\n",
      "4\n",
      "5\n",
      "6\n",
      "7\n",
      "8\n",
      "9\n",
      "10\n"
     ]
    }
   ],
   "source": [
    "# while문: 특정 코드를 반복해서 실행한다.\n",
    "\n",
    "# 1 ~ 10까지 출력하기\n",
    "\n",
    "i = 1; \n",
    "while i <= 10:\n",
    "    print(i)\n",
    "    i = i + 1"
   ]
  },
  {
   "cell_type": "code",
   "execution_count": 55,
   "id": "2199ce8e-d5f4-4231-9ae0-0cf20787f66a",
   "metadata": {},
   "outputs": [
    {
     "name": "stdout",
     "output_type": "stream",
     "text": [
      "4\n",
      "-1\n",
      "-3\n",
      "5\n",
      "2.5\n",
      "2\n"
     ]
    }
   ],
   "source": [
    "# 복합대입 연산자\n",
    "\n",
    "x = 1\n",
    "\n",
    "x += 3\n",
    "print(x)\n",
    "\n",
    "x -= 5\n",
    "print(x)\n",
    "\n",
    "x *= 3\n",
    "print(x)\n",
    "\n",
    "y = 10\n",
    "\n",
    "y //= 2\n",
    "print(y)\n",
    "\n",
    "y /= 2\n",
    "print(y)\n",
    "\n",
    "z = 8\n",
    "z %= 3\n",
    "print(z)"
   ]
  },
  {
   "cell_type": "code",
   "execution_count": 67,
   "id": "553b500a-9108-49b7-a145-1a39364cd1ed",
   "metadata": {},
   "outputs": [
    {
     "name": "stdout",
     "output_type": "stream",
     "text": [
      "55\n"
     ]
    }
   ],
   "source": [
    "# 1 ~ 10까지 더한 값 출력하기\n",
    "\n",
    "i = 1; \n",
    "sum = 0; \n",
    "while i <= 10:\n",
    "    sum += i\n",
    "    i = i + 1 # 혹은 i += 1\n",
    "\n",
    "print(sum)"
   ]
  },
  {
   "cell_type": "code",
   "execution_count": 69,
   "id": "029ee2a4-3935-4ffd-b21f-9d71edb467d8",
   "metadata": {},
   "outputs": [
    {
     "name": "stdout",
     "output_type": "stream",
     "text": [
      "5050\n"
     ]
    }
   ],
   "source": [
    "# 1 ~ 100까지 더한 값 출력하기\n",
    "\n",
    "i = 1; \n",
    "sum = 0; \n",
    "while i <= 100:\n",
    "    sum += i\n",
    "    i = i + 1  # 혹은 i += 1\n",
    "\n",
    "print(sum)"
   ]
  },
  {
   "cell_type": "code",
   "execution_count": 26,
   "id": "da91c170-fb8c-4db3-ac6c-427390dd94c3",
   "metadata": {},
   "outputs": [
    {
     "name": "stdout",
     "output_type": "stream",
     "text": [
      "문자를 입력하세요:\n"
     ]
    },
    {
     "name": "stdin",
     "output_type": "stream",
     "text": [
      " 안녕하세요\n"
     ]
    },
    {
     "name": "stdout",
     "output_type": "stream",
     "text": [
      "입력한 문자 출력: 안녕하세요\n",
      "숫자를 입력하세요:\n"
     ]
    },
    {
     "name": "stdin",
     "output_type": "stream",
     "text": [
      " 23\n"
     ]
    },
    {
     "name": "stdout",
     "output_type": "stream",
     "text": [
      "입력한 숫자 출력: 23\n"
     ]
    }
   ],
   "source": [
    "print(\"문자를 입력하세요:\")\n",
    "str = input()\n",
    "print(f'입력한 문자 출력: {str}')\n",
    "\n",
    "print(\"숫자를 입력하세요:\")\n",
    "num = int(input())\n",
    "print(f'입력한 숫자 출력: {num}')"
   ]
  },
  {
   "cell_type": "code",
   "execution_count": 28,
   "id": "558fbef8-9c80-4ee4-a960-7ef315bf99bb",
   "metadata": {},
   "outputs": [
    {
     "name": "stdout",
     "output_type": "stream",
     "text": [
      "\n",
      "    1. Add\n",
      "    2. Del\n",
      "    3. List\n",
      "    4. Quit\n",
      "\n"
     ]
    },
    {
     "name": "stdin",
     "output_type": "stream",
     "text": [
      " 2\n"
     ]
    },
    {
     "name": "stdout",
     "output_type": "stream",
     "text": [
      "\n",
      "    1. Add\n",
      "    2. Del\n",
      "    3. List\n",
      "    4. Quit\n",
      "\n"
     ]
    },
    {
     "name": "stdin",
     "output_type": "stream",
     "text": [
      " 4\n"
     ]
    }
   ],
   "source": [
    "prompt = \"\"\"\n",
    "    1. Add\n",
    "    2. Del\n",
    "    3. List\n",
    "    4. Quit\n",
    "\"\"\"\n",
    "\n",
    "number = 0\n",
    "\n",
    "while number != 4: # 4를 입력하지 않으면 while문 계속 실행, 4를 입력하면 조건문이 거짓이 되어 while문을 실행하지 X\n",
    "    print(prompt)\n",
    "    number = int(input())"
   ]
  },
  {
   "cell_type": "code",
   "execution_count": 71,
   "id": "7e2e2c8d-8d53-43f9-b1ea-d06d15e76ba2",
   "metadata": {},
   "outputs": [
    {
     "name": "stdout",
     "output_type": "stream",
     "text": [
      "1\n",
      "2\n",
      "3\n",
      "4\n"
     ]
    }
   ],
   "source": [
    "# while문 강제로 빠져나오기: break\n",
    "\n",
    "# 1 ~ 10까지 출력하기\n",
    "\n",
    "i = 1; \n",
    "while i <= 10:\n",
    "    print(i)\n",
    "    i = i + 1  # 혹은 i += 1\n",
    "    if i == 5: \n",
    "        break "
   ]
  },
  {
   "cell_type": "code",
   "execution_count": 1,
   "id": "ce98994c-66e8-4a24-b288-38fd0825348b",
   "metadata": {},
   "outputs": [
    {
     "name": "stdout",
     "output_type": "stream",
     "text": [
      "돈을 받았으니 커피를 줍니다.\n",
      "남은 커피의 양은 9 잔 입니다.\n",
      "돈을 받았으니 커피를 줍니다.\n",
      "남은 커피의 양은 8 잔 입니다.\n",
      "돈을 받았으니 커피를 줍니다.\n",
      "남은 커피의 양은 7 잔 입니다.\n",
      "돈을 받았으니 커피를 줍니다.\n",
      "남은 커피의 양은 6 잔 입니다.\n",
      "돈을 받았으니 커피를 줍니다.\n",
      "남은 커피의 양은 5 잔 입니다.\n",
      "돈을 받았으니 커피를 줍니다.\n",
      "남은 커피의 양은 4 잔 입니다.\n",
      "돈을 받았으니 커피를 줍니다.\n",
      "남은 커피의 양은 3 잔 입니다.\n",
      "돈을 받았으니 커피를 줍니다.\n",
      "남은 커피의 양은 2 잔 입니다.\n",
      "돈을 받았으니 커피를 줍니다.\n",
      "남은 커피의 양은 1 잔 입니다.\n",
      "돈을 받았으니 커피를 줍니다.\n",
      "남은 커피의 양은 0 잔 입니다.\n",
      "커피가 다 떨어졌습니다. 판매를 중지합니다.\n"
     ]
    }
   ],
   "source": [
    "# while문 강제로 빠져나오기: break\n",
    "\n",
    "coffee = 10 # 자판기에 10잔의 커피가 있음\n",
    "\n",
    "while True:\n",
    "    print(\"돈을 받았으니 커피를 줍니다.\")\n",
    "    coffee = coffee - 1\n",
    "    print(f'남은 커피의 양은 {coffee} 잔 입니다.')\n",
    "    if coffee == 0:\n",
    "        print(\"커피가 다 떨어졌습니다. 판매를 중지합니다.\")\n",
    "        break"
   ]
  },
  {
   "cell_type": "code",
   "execution_count": 73,
   "id": "94dd5b0a-bac3-4f68-a7ea-6e3766a2114a",
   "metadata": {},
   "outputs": [
    {
     "ename": "KeyboardInterrupt",
     "evalue": "Interrupted by user",
     "output_type": "error",
     "traceback": [
      "\u001b[1;31m---------------------------------------------------------------------------\u001b[0m",
      "\u001b[1;31mKeyboardInterrupt\u001b[0m                         Traceback (most recent call last)",
      "Cell \u001b[1;32mIn[73], line 3\u001b[0m\n\u001b[0;32m      1\u001b[0m coffee \u001b[38;5;241m=\u001b[39m \u001b[38;5;241m10\u001b[39m\n\u001b[0;32m      2\u001b[0m \u001b[38;5;28;01mwhile\u001b[39;00m \u001b[38;5;28;01mTrue\u001b[39;00m:\n\u001b[1;32m----> 3\u001b[0m     money \u001b[38;5;241m=\u001b[39m \u001b[38;5;28mint\u001b[39m(\u001b[38;5;28minput\u001b[39m(\u001b[38;5;124m\"\u001b[39m\u001b[38;5;124m돈을 넣어 주세요: \u001b[39m\u001b[38;5;124m\"\u001b[39m))\n\u001b[0;32m      4\u001b[0m     \u001b[38;5;28;01mif\u001b[39;00m money \u001b[38;5;241m==\u001b[39m \u001b[38;5;241m300\u001b[39m:\n\u001b[0;32m      5\u001b[0m         \u001b[38;5;28mprint\u001b[39m(\u001b[38;5;124m\"\u001b[39m\u001b[38;5;124m커피를 줍니다.\u001b[39m\u001b[38;5;124m\"\u001b[39m)\n",
      "File \u001b[1;32m~\\anaconda3\\Lib\\site-packages\\ipykernel\\kernelbase.py:1262\u001b[0m, in \u001b[0;36mKernel.raw_input\u001b[1;34m(self, prompt)\u001b[0m\n\u001b[0;32m   1260\u001b[0m     msg \u001b[38;5;241m=\u001b[39m \u001b[38;5;124m\"\u001b[39m\u001b[38;5;124mraw_input was called, but this frontend does not support input requests.\u001b[39m\u001b[38;5;124m\"\u001b[39m\n\u001b[0;32m   1261\u001b[0m     \u001b[38;5;28;01mraise\u001b[39;00m StdinNotImplementedError(msg)\n\u001b[1;32m-> 1262\u001b[0m \u001b[38;5;28;01mreturn\u001b[39;00m \u001b[38;5;28mself\u001b[39m\u001b[38;5;241m.\u001b[39m_input_request(\n\u001b[0;32m   1263\u001b[0m     \u001b[38;5;28mstr\u001b[39m(prompt),\n\u001b[0;32m   1264\u001b[0m     \u001b[38;5;28mself\u001b[39m\u001b[38;5;241m.\u001b[39m_parent_ident[\u001b[38;5;124m\"\u001b[39m\u001b[38;5;124mshell\u001b[39m\u001b[38;5;124m\"\u001b[39m],\n\u001b[0;32m   1265\u001b[0m     \u001b[38;5;28mself\u001b[39m\u001b[38;5;241m.\u001b[39mget_parent(\u001b[38;5;124m\"\u001b[39m\u001b[38;5;124mshell\u001b[39m\u001b[38;5;124m\"\u001b[39m),\n\u001b[0;32m   1266\u001b[0m     password\u001b[38;5;241m=\u001b[39m\u001b[38;5;28;01mFalse\u001b[39;00m,\n\u001b[0;32m   1267\u001b[0m )\n",
      "File \u001b[1;32m~\\anaconda3\\Lib\\site-packages\\ipykernel\\kernelbase.py:1305\u001b[0m, in \u001b[0;36mKernel._input_request\u001b[1;34m(self, prompt, ident, parent, password)\u001b[0m\n\u001b[0;32m   1302\u001b[0m \u001b[38;5;28;01mexcept\u001b[39;00m \u001b[38;5;167;01mKeyboardInterrupt\u001b[39;00m:\n\u001b[0;32m   1303\u001b[0m     \u001b[38;5;66;03m# re-raise KeyboardInterrupt, to truncate traceback\u001b[39;00m\n\u001b[0;32m   1304\u001b[0m     msg \u001b[38;5;241m=\u001b[39m \u001b[38;5;124m\"\u001b[39m\u001b[38;5;124mInterrupted by user\u001b[39m\u001b[38;5;124m\"\u001b[39m\n\u001b[1;32m-> 1305\u001b[0m     \u001b[38;5;28;01mraise\u001b[39;00m \u001b[38;5;167;01mKeyboardInterrupt\u001b[39;00m(msg) \u001b[38;5;28;01mfrom\u001b[39;00m \u001b[38;5;28;01mNone\u001b[39;00m\n\u001b[0;32m   1306\u001b[0m \u001b[38;5;28;01mexcept\u001b[39;00m \u001b[38;5;167;01mException\u001b[39;00m:\n\u001b[0;32m   1307\u001b[0m     \u001b[38;5;28mself\u001b[39m\u001b[38;5;241m.\u001b[39mlog\u001b[38;5;241m.\u001b[39mwarning(\u001b[38;5;124m\"\u001b[39m\u001b[38;5;124mInvalid Message:\u001b[39m\u001b[38;5;124m\"\u001b[39m, exc_info\u001b[38;5;241m=\u001b[39m\u001b[38;5;28;01mTrue\u001b[39;00m)\n",
      "\u001b[1;31mKeyboardInterrupt\u001b[0m: Interrupted by user"
     ]
    }
   ],
   "source": [
    "coffee = 10\n",
    "while True:\n",
    "    money = int(input(\"돈을 넣어 주세요: \"))\n",
    "    if money == 300:\n",
    "        print(\"커피를 줍니다.\")\n",
    "        coffee = coffee -1  # 혹은 coffee -= 1\n",
    "        print(f'남은 커피의 양은 {coffee}개 입니다.')\n",
    "    elif money > 300:\n",
    "        print(f'거스름돈 {money -300}를 주고 커피를 줍니다.')\n",
    "        coffee = coffee -1 \n",
    "        print(f'남은 커피의 양은 {coffee}개 입니다.')\n",
    "    else:\n",
    "        print(\"돈을 다시 돌려주고 커피를 주지 않습니다.\")\n",
    "        print(f'남은 커피의 양은 {coffee}개 입니다.')\n",
    "    if coffee == 0:\n",
    "        print(\"커피가 다 떨어졌습니다. 판매를 중지 합니다.\")\n",
    "        break"
   ]
  },
  {
   "cell_type": "code",
   "execution_count": 24,
   "id": "0342b8bc-7d72-46d5-a5d8-49b80e3220d8",
   "metadata": {},
   "outputs": [
    {
     "name": "stdout",
     "output_type": "stream",
     "text": [
      "1\n",
      "3\n",
      "5\n",
      "7\n",
      "9\n"
     ]
    }
   ],
   "source": [
    "# while문의 맨 처음으로 돌아가기: continue\n",
    "\n",
    "# 홀수만 출력\n",
    "\n",
    "a = 0\n",
    "\n",
    "while a < 10:\n",
    "    a = a + 1\n",
    "    if a % 2 == 0: continue\n",
    "    print(a)"
   ]
  },
  {
   "cell_type": "markdown",
   "id": "24949ea0-2717-4b98-979c-58fd2998d52c",
   "metadata": {},
   "source": [
    "### 3. for문"
   ]
  },
  {
   "cell_type": "code",
   "execution_count": 61,
   "id": "1310cf39-7b74-4d77-9654-087f5574df6d",
   "metadata": {},
   "outputs": [
    {
     "name": "stdout",
     "output_type": "stream",
     "text": [
      "1\n",
      "2\n",
      "3\n",
      "4\n",
      "5\n",
      "6\n",
      "7\n",
      "8\n",
      "9\n",
      "10\n"
     ]
    }
   ],
   "source": [
    "# for문: 리스트나 튜플, 문자열의 첫번째 요소부터 마지막 요소까지 차례로 변수에 대입되어 실행된다.\n",
    "\n",
    "test_list = [1, 2, 3, 4, 5, 6, 7, 8, 9, 10]\n",
    "\n",
    "for i in test_list:\n",
    "    print(i)"
   ]
  },
  {
   "cell_type": "code",
   "execution_count": 57,
   "id": "6e2d7aa0-f441-49c3-b417-71a99ddff4a7",
   "metadata": {},
   "outputs": [
    {
     "name": "stdout",
     "output_type": "stream",
     "text": [
      "55\n"
     ]
    }
   ],
   "source": [
    "test_list = [1, 2, 3, 4, 5, 6, 7, 8, 9, 10]\n",
    "sum = 0\n",
    "\n",
    "for i in test_list:\n",
    "    sum += i\n",
    "\n",
    "print(sum)"
   ]
  },
  {
   "cell_type": "code",
   "execution_count": 59,
   "id": "a8feb4bc-009d-4222-a1e7-978d4c66faad",
   "metadata": {},
   "outputs": [
    {
     "name": "stdout",
     "output_type": "stream",
     "text": [
      "one\n",
      "two\n",
      "three\n"
     ]
    }
   ],
   "source": [
    "test_list = ['one', 'two', 'three']\n",
    "\n",
    "for i in test_list:\n",
    "    print(i)"
   ]
  },
  {
   "cell_type": "code",
   "execution_count": 63,
   "id": "31fb1355-a542-48b2-accc-f78a195b8da2",
   "metadata": {},
   "outputs": [
    {
     "name": "stdout",
     "output_type": "stream",
     "text": [
      "1 2\n",
      "3 4\n",
      "5 6\n"
     ]
    }
   ],
   "source": [
    "# 다양한 for문의 사용\n",
    "a = [(1, 2), (3, 4), (5, 6)]\n",
    "\n",
    "for (first, last) in a:\n",
    "    print(first, last)"
   ]
  },
  {
   "cell_type": "code",
   "execution_count": 79,
   "id": "7367e8b8-b0ab-4790-9e9e-a5f1758f51ea",
   "metadata": {},
   "outputs": [
    {
     "name": "stdout",
     "output_type": "stream",
     "text": [
      "1번째 학생은 합격입니다.\n",
      "2번째 학생은 불합격입니다.\n",
      "3번째 학생은 합격입니다.\n",
      "4번째 학생은 불합격입니다.\n",
      "5번째 학생은 합격입니다.\n"
     ]
    }
   ],
   "source": [
    "# for문의 응용\n",
    "\n",
    "# 총 5명의 학생이 시험을 보았는데 시험점수가 60점 이상이면 합격이고 그렇지 않으면 불합격이다. 합격인지, 불합격인지 결과를 보여주세요.\n",
    "marks = [90, 25, 67, 45, 80]\n",
    "number = 0\n",
    "\n",
    "for mark in marks:\n",
    "    number += 1\n",
    "    if mark >= 60:\n",
    "        print(f'{number}번째 학생은 합격입니다.')\n",
    "    else:\n",
    "        print(f'{number}번째 학생은 불합격입니다.')"
   ]
  },
  {
   "cell_type": "code",
   "execution_count": 171,
   "id": "de8c546b-a12f-441c-aa25-c6e73ad6373a",
   "metadata": {},
   "outputs": [
    {
     "name": "stdout",
     "output_type": "stream",
     "text": [
      "1\n",
      "2\n"
     ]
    }
   ],
   "source": [
    "# for문과 break\n",
    "\n",
    "test_list = [1, 2, 3, 4, 5]\n",
    "\n",
    "for i in test_list:\n",
    "    if i == 3: break\n",
    "    print(i)"
   ]
  },
  {
   "cell_type": "code",
   "execution_count": 101,
   "id": "e72a912d-4f2f-4f7a-926f-0c336a8b4700",
   "metadata": {},
   "outputs": [
    {
     "name": "stdout",
     "output_type": "stream",
     "text": [
      "1번째 학생은 정상적인 점수 입니다.\n",
      "2번째 학생은 정상적인 점수 입니다.\n",
      "3번째 학생은 정상적인 점수 입니다.\n",
      "4번째 학생은 정상적인 점수 입니다.\n",
      "5번째 학생은 비정상적인 점수 입니다.\n"
     ]
    }
   ],
   "source": [
    "# for문과 break\n",
    "\n",
    "#비정상적인 점수(0미만) 찾아내기\n",
    "\n",
    "marks = [90, 25, 67, 45, -1, 80]\n",
    "number = 0\n",
    "\n",
    "for mark in marks:\n",
    "    number += 1\n",
    "    if mark < 0:\n",
    "        print(f'{number}번째 학생은 비정상적인 점수 입니다.')\n",
    "        break\n",
    "    print(f'{number}번째 학생은 정상적인 점수 입니다.')"
   ]
  },
  {
   "cell_type": "code",
   "execution_count": 175,
   "id": "9632e46b-477b-40e0-9bd8-8d7c17592c25",
   "metadata": {},
   "outputs": [
    {
     "name": "stdout",
     "output_type": "stream",
     "text": [
      "2\n",
      "4\n"
     ]
    }
   ],
   "source": [
    "# for문과 continue\n",
    "\n",
    "test_list = [1, 2, 3, 4, 5]\n",
    "\n",
    "for i in test_list:\n",
    "    if i % 2 != 0: continue\n",
    "    print(i)"
   ]
  },
  {
   "cell_type": "code",
   "execution_count": 103,
   "id": "f741699d-2341-4acc-a87e-8c74373103a0",
   "metadata": {},
   "outputs": [
    {
     "name": "stdout",
     "output_type": "stream",
     "text": [
      "1번째 학생은 합격입니다.\n",
      "3번째 학생은 합격입니다.\n",
      "5번째 학생은 합격입니다.\n"
     ]
    }
   ],
   "source": [
    "# for문과 continue\n",
    "\n",
    "# 60점 이상인 학생들만 합격시키기\n",
    "\n",
    "marks = [90, 25, 67, 45, 80]\n",
    "number = 0\n",
    "\n",
    "for mark in marks:\n",
    "    number += 1\n",
    "    if mark < 60: \n",
    "        continue\n",
    "    print(f'{number}번째 학생은 합격입니다.')"
   ]
  },
  {
   "cell_type": "code",
   "execution_count": 42,
   "id": "1deb8d9f-65d3-430c-8774-28bd4f9ac0b7",
   "metadata": {},
   "outputs": [
    {
     "name": "stdout",
     "output_type": "stream",
     "text": [
      "[0, 1, 2, 3, 4, 5, 6, 7, 8, 9]\n",
      "[1, 2, 3, 4, 5, 6, 7, 8, 9, 10]\n",
      "[1, 3, 5, 7, 9]\n",
      "[10, 9, 8, 7, 6, 5, 4, 3, 2, 1]\n",
      "[10, 9, 8, 7, 6, 5, 4, 3, 2]\n",
      "[10, 8, 6, 4, 2]\n"
     ]
    }
   ],
   "source": [
    "# for문과 자주 사용하는 range 함수\n",
    "# range는 list를 자동으로 만들어준다\n",
    "# range(시작숫자, 끝숫자 - 1)\n",
    "# range(끝숫자 - 1) 시작은 무조건 0\n",
    "\n",
    "a = range(10)\n",
    "print(list(a)) # 0 ~ 9\n",
    "\n",
    "b = range(1, 11)\n",
    "print(list(b)) # 1 ~ 10\n",
    "\n",
    "c = range(1, 11, 2)\n",
    "print(list(c))\n",
    "\n",
    "d = range(10, 0, -1)\n",
    "print(list(d))\n",
    "\n",
    "#역순으로 출력시 두번째 값으로 오는 숫자는 제외하고 출력합니다.\n",
    "\n",
    "d = range(10, 1, -1)\n",
    "print(list(d))\n",
    "\n",
    "e = range(10, 0, -2)\n",
    "print(list(e))"
   ]
  },
  {
   "cell_type": "code",
   "execution_count": 127,
   "id": "de26d60a-eb18-491a-b525-10a8e0761174",
   "metadata": {},
   "outputs": [
    {
     "name": "stdout",
     "output_type": "stream",
     "text": [
      "55\n"
     ]
    }
   ],
   "source": [
    "# 1부터 10까지 더하기\n",
    "\n",
    "add = 0\n",
    "\n",
    "for i in range(1, 11):\n",
    "    add+= i\n",
    "\n",
    "print(add)"
   ]
  },
  {
   "cell_type": "code",
   "execution_count": 129,
   "id": "70be3ff4-0e9a-46c0-a46d-0d10f4ac4ea5",
   "metadata": {},
   "outputs": [
    {
     "name": "stdout",
     "output_type": "stream",
     "text": [
      "1번째 학생은 합격입니다.\n",
      "3번째 학생은 합격입니다.\n",
      "5번째 학생은 합격입니다.\n"
     ]
    }
   ],
   "source": [
    "# range를 이용해 60점 이상 학생 출력\n",
    "marks = [90, 25, 67, 45, 80]\n",
    "for number in range(len(marks)):\n",
    "    if marks[number] < 60: \n",
    "        continue\n",
    "    print(f'{number + 1}번째 학생은 합격입니다.')\n"
   ]
  },
  {
   "cell_type": "code",
   "execution_count": 4,
   "id": "d5c183a8-07a1-4b33-b96d-b9029e6c5615",
   "metadata": {},
   "outputs": [
    {
     "name": "stdout",
     "output_type": "stream",
     "text": [
      "1 2 3 4 5 6 7 8 9 "
     ]
    }
   ],
   "source": [
    "# end\n",
    "for num in range(1, 10):\n",
    "    print(num, end=\" \") #end 사용시 해당 결과값을 출력 할때 다음 줄로 넘기지 않고 그 줄에 계속 출력가능\n"
   ]
  },
  {
   "cell_type": "code",
   "execution_count": 8,
   "id": "09124c5a-4747-43d9-a858-f2c4774655f3",
   "metadata": {},
   "outputs": [
    {
     "name": "stdout",
     "output_type": "stream",
     "text": [
      "1, 2, 3, 4, 5, 6, 7, 8, 9, "
     ]
    }
   ],
   "source": [
    "# end\n",
    "for num in range(1, 10):\n",
    "    print(num, end=\", \") #end 사용시 해당 결과값을 출력 할때 다음 줄로 넘기지 않고 그 줄에 계속 출력가능\n"
   ]
  },
  {
   "cell_type": "code",
   "execution_count": 151,
   "id": "839ab563-60f2-4035-9ea0-aa72a41a0294",
   "metadata": {},
   "outputs": [
    {
     "name": "stdout",
     "output_type": "stream",
     "text": [
      "2 4 6 8 10 12 14 16 18 \n",
      "3 6 9 12 15 18 21 24 27 \n",
      "4 8 12 16 20 24 28 32 36 \n",
      "5 10 15 20 25 30 35 40 45 \n",
      "6 12 18 24 30 36 42 48 54 \n",
      "7 14 21 28 35 42 49 56 63 \n",
      "8 16 24 32 40 48 56 64 72 \n",
      "9 18 27 36 45 54 63 72 81 \n"
     ]
    }
   ],
   "source": [
    "# for과 range를 이용한 구구단\n",
    "for i in range(2, 10):\n",
    "    for j in range(1, 10):\n",
    "        print(i * j, end=\" \") #end 사용시 해당 결과값을 출력 할때 다음 줄로 넘기지 않고 그 줄에 계속 출력가능\n",
    "    print('')"
   ]
  },
  {
   "cell_type": "code",
   "execution_count": 145,
   "id": "0985fcb8-6ff7-4e0b-967d-25aef4430007",
   "metadata": {},
   "outputs": [
    {
     "name": "stdout",
     "output_type": "stream",
     "text": [
      "2 x 1 = 2\n",
      "2 x 2 = 4\n",
      "2 x 3 = 6\n",
      "2 x 4 = 8\n",
      "2 x 5 = 10\n",
      "2 x 6 = 12\n",
      "2 x 7 = 14\n",
      "2 x 8 = 16\n",
      "2 x 9 = 18\n",
      "\n",
      "3 x 1 = 3\n",
      "3 x 2 = 6\n",
      "3 x 3 = 9\n",
      "3 x 4 = 12\n",
      "3 x 5 = 15\n",
      "3 x 6 = 18\n",
      "3 x 7 = 21\n",
      "3 x 8 = 24\n",
      "3 x 9 = 27\n",
      "\n",
      "4 x 1 = 4\n",
      "4 x 2 = 8\n",
      "4 x 3 = 12\n",
      "4 x 4 = 16\n",
      "4 x 5 = 20\n",
      "4 x 6 = 24\n",
      "4 x 7 = 28\n",
      "4 x 8 = 32\n",
      "4 x 9 = 36\n",
      "\n",
      "5 x 1 = 5\n",
      "5 x 2 = 10\n",
      "5 x 3 = 15\n",
      "5 x 4 = 20\n",
      "5 x 5 = 25\n",
      "5 x 6 = 30\n",
      "5 x 7 = 35\n",
      "5 x 8 = 40\n",
      "5 x 9 = 45\n",
      "\n",
      "6 x 1 = 6\n",
      "6 x 2 = 12\n",
      "6 x 3 = 18\n",
      "6 x 4 = 24\n",
      "6 x 5 = 30\n",
      "6 x 6 = 36\n",
      "6 x 7 = 42\n",
      "6 x 8 = 48\n",
      "6 x 9 = 54\n",
      "\n",
      "7 x 1 = 7\n",
      "7 x 2 = 14\n",
      "7 x 3 = 21\n",
      "7 x 4 = 28\n",
      "7 x 5 = 35\n",
      "7 x 6 = 42\n",
      "7 x 7 = 49\n",
      "7 x 8 = 56\n",
      "7 x 9 = 63\n",
      "\n",
      "8 x 1 = 8\n",
      "8 x 2 = 16\n",
      "8 x 3 = 24\n",
      "8 x 4 = 32\n",
      "8 x 5 = 40\n",
      "8 x 6 = 48\n",
      "8 x 7 = 56\n",
      "8 x 8 = 64\n",
      "8 x 9 = 72\n",
      "\n",
      "9 x 1 = 9\n",
      "9 x 2 = 18\n",
      "9 x 3 = 27\n",
      "9 x 4 = 36\n",
      "9 x 5 = 45\n",
      "9 x 6 = 54\n",
      "9 x 7 = 63\n",
      "9 x 8 = 72\n",
      "9 x 9 = 81\n",
      "\n"
     ]
    }
   ],
   "source": [
    "for i in range(2, 10):\n",
    "    for j in range(1, 10):\n",
    "        print(f'{i} x {j} = {i * j}')\n",
    "    print('')"
   ]
  },
  {
   "cell_type": "code",
   "execution_count": 155,
   "id": "6efbe3c7-3b8e-4c67-a515-84382cfbe2ab",
   "metadata": {},
   "outputs": [
    {
     "name": "stdout",
     "output_type": "stream",
     "text": [
      "[3, 6, 9, 12]\n"
     ]
    }
   ],
   "source": [
    "# 리스트 컴프리헨션 사용하지 않을시 3을 곱해 저장 \n",
    "\n",
    "a = [1, 2, 3, 4]\n",
    "result = []\n",
    "\n",
    "for num in a:\n",
    "    result.append(num * 3)\n",
    "\n",
    "print(result)"
   ]
  },
  {
   "cell_type": "code",
   "execution_count": 159,
   "id": "135d7b27-25d3-4372-8e7e-6fde64e37a63",
   "metadata": {},
   "outputs": [
    {
     "name": "stdout",
     "output_type": "stream",
     "text": [
      "[3, 6, 9, 12]\n"
     ]
    }
   ],
   "source": [
    "# 리스트 컴프리헨션 사용시 3을 곱해 저장\n",
    "\n",
    "a = [1, 2, 3, 4]\n",
    "result = [num * 3 for num in a]\n",
    "print(result)"
   ]
  },
  {
   "cell_type": "code",
   "execution_count": 161,
   "id": "4a5b34e0-f06f-4d49-b334-6a87f9c9d6c1",
   "metadata": {},
   "outputs": [
    {
     "name": "stdout",
     "output_type": "stream",
     "text": [
      "[6, 12]\n"
     ]
    }
   ],
   "source": [
    "# 리스트 컴프리헨션 사용시 짝수만 3을 곱하여 저장하고 싶다면 \n",
    "\n",
    "a = [1, 2, 3, 4]\n",
    "result = [num * 3 for num in a if num % 2 == 0]\n",
    "print(result)"
   ]
  },
  {
   "cell_type": "code",
   "execution_count": 44,
   "id": "c063fc33-1346-41d5-98eb-b1350309bdb6",
   "metadata": {},
   "outputs": [
    {
     "name": "stdout",
     "output_type": "stream",
     "text": [
      "[2, 4, 6, 8, 10, 12, 14, 16, 18, 3, 6, 9, 12, 15, 18, 21, 24, 27, 4, 8, 12, 16, 20, 24, 28, 32, 36, 5, 10, 15, 20, 25, 30, 35, 40, 45, 6, 12, 18, 24, 30, 36, 42, 48, 54, 7, 14, 21, 28, 35, 42, 49, 56, 63, 8, 16, 24, 32, 40, 48, 56, 64, 72, 9, 18, 27, 36, 45, 54, 63, 72, 81]\n"
     ]
    }
   ],
   "source": [
    "# 리스트 컴프리헨션을 사용한 구구단\n",
    "result = [x * y for x in range(2, 10)\n",
    "                for y in range(1, 10)]\n",
    "\n",
    "print(result)"
   ]
  },
  {
   "cell_type": "code",
   "execution_count": 50,
   "id": "01becd28-05f6-47c9-9db8-8b001a2cd436",
   "metadata": {},
   "outputs": [
    {
     "name": "stdout",
     "output_type": "stream",
     "text": [
      "안녕하세요\n",
      "안녕하세요\n",
      "안녕하세요\n",
      "안녕하세요\n",
      "안녕하세요\n"
     ]
    }
   ],
   "source": [
    "# for문에서 언더바(_)변수 사용\n",
    "\n",
    "for _ in range(5): \n",
    "    print(\"안녕하세요\")"
   ]
  }
 ],
 "metadata": {
  "kernelspec": {
   "display_name": "Python 3 (ipykernel)",
   "language": "python",
   "name": "python3"
  },
  "language_info": {
   "codemirror_mode": {
    "name": "ipython",
    "version": 3
   },
   "file_extension": ".py",
   "mimetype": "text/x-python",
   "name": "python",
   "nbconvert_exporter": "python",
   "pygments_lexer": "ipython3",
   "version": "3.12.4"
  }
 },
 "nbformat": 4,
 "nbformat_minor": 5
}
