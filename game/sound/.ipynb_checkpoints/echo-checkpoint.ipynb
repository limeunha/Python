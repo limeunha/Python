{
 "cells": [
  {
   "cell_type": "code",
   "execution_count": 1,
   "id": "01edce39-bfa9-4626-975e-514aeb61d346",
   "metadata": {},
   "outputs": [],
   "source": [
    "def echo_test():\n",
    "    print(\"echo\")"
   ]
  },
  {
   "cell_type": "code",
   "execution_count": null,
   "id": "e9dc79f1-79f0-49e5-a2ab-c0195e672dc3",
   "metadata": {},
   "outputs": [],
   "source": []
  }
 ],
 "metadata": {
  "kernelspec": {
   "display_name": "Python 3 (ipykernel)",
   "language": "python",
   "name": "python3"
  },
  "language_info": {
   "codemirror_mode": {
    "name": "ipython",
    "version": 3
   },
   "file_extension": ".py",
   "mimetype": "text/x-python",
   "name": "python",
   "nbconvert_exporter": "python",
   "pygments_lexer": "ipython3",
   "version": "3.12.7"
  }
 },
 "nbformat": 4,
 "nbformat_minor": 5
}
