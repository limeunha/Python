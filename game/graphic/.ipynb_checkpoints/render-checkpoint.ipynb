{
 "cells": [
  {
   "cell_type": "code",
   "execution_count": 1,
   "id": "fbaa5740-cff5-4e92-a947-c7bad3d68453",
   "metadata": {},
   "outputs": [],
   "source": [
    "def render_test():\n",
    "    print(\"render\")"
   ]
  },
  {
   "cell_type": "code",
   "execution_count": null,
   "id": "59bac84e-80bb-45e4-95a2-c5d1acccc4c0",
   "metadata": {},
   "outputs": [],
   "source": []
  }
 ],
 "metadata": {
  "kernelspec": {
   "display_name": "Python 3 (ipykernel)",
   "language": "python",
   "name": "python3"
  },
  "language_info": {
   "codemirror_mode": {
    "name": "ipython",
    "version": 3
   },
   "file_extension": ".py",
   "mimetype": "text/x-python",
   "name": "python",
   "nbconvert_exporter": "python",
   "pygments_lexer": "ipython3",
   "version": "3.12.7"
  }
 },
 "nbformat": 4,
 "nbformat_minor": 5
}
