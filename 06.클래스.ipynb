{
 "cells": [
  {
   "cell_type": "markdown",
   "id": "c62be8a8-d911-4f01-878b-42b6dc49fbf0",
   "metadata": {},
   "source": [
    "## 1. 클래스 정의하기\n",
    "\n",
    "- 클래스: 객체를 만들기 위한 설계도(자동차 설계도)\n",
    "- 객체: 클래스에 의해 실제 생성된 객체(자동차)\n",
    "- 메소드: 클래스 안에 정의된 함수\n",
    "- 생성자: 객체가 생성될때 호출되는 메소드. 객체 속성의 초기 상태를 설정하거나 필요한 작업 수행"
   ]
  },
  {
   "cell_type": "code",
   "execution_count": 44,
   "id": "7a3828ee-a3be-4f9a-b694-d62c34eeedfb",
   "metadata": {},
   "outputs": [
    {
     "name": "stdout",
     "output_type": "stream",
     "text": [
      "자동차 정보: 브랜드=Hyundai, 컬러=white\n",
      "자동차가 달립니다.\n",
      "자동차를 정지합니다.\n",
      "\n",
      "자동차 정보: 브랜드=BMW, 컬러=black\n",
      "자동차가 달립니다.\n",
      "자동차를 정지합니다.\n"
     ]
    }
   ],
   "source": [
    "class Car:\n",
    "    def __init__(self, brand, color):\n",
    "        self.brand = brand\n",
    "        self.color = color\n",
    "\n",
    "    def stop(self):\n",
    "        print(\"자동차를 정지합니다.\")\n",
    "\n",
    "    def run(self):\n",
    "        print(\"자동차가 달립니다.\")\n",
    "\n",
    "    def info(self):\n",
    "        print(f\"자동차 정보: 브랜드={self.brand}, 컬러={self.color}\")\n",
    "\n",
    "# 자동차 객체 생성\n",
    "car1 = Car(\"Hyundai\", \"white\")\n",
    "car2 = Car(\"BMW\", \"black\")\n",
    "\n",
    "# 자동차 동작 테스트\n",
    "car1.info()\n",
    "car1.run()\n",
    "car1.stop()\n",
    "\n",
    "print()\n",
    "\n",
    "car2.info()\n",
    "car2.run()\n",
    "car2.stop()"
   ]
  },
  {
   "cell_type": "code",
   "execution_count": 12,
   "id": "753b925d-2c6a-4dec-975d-1927b10a6fe3",
   "metadata": {},
   "outputs": [
    {
     "name": "stdout",
     "output_type": "stream",
     "text": [
      "3\n",
      "7\n",
      "3\n",
      "10\n"
     ]
    }
   ],
   "source": [
    "class Calculator:\n",
    "    def __init__(self): #생성자\n",
    "        self.result = 0  # 객체의 초기 상태를 설정\n",
    "\n",
    "    def add(self, num):\n",
    "        self.result += num  # result 값을 업데이트\n",
    "        return self.result\n",
    "\n",
    "cal1 = Calculator()  # __init__이 호출되어 cal1.result = 0으로 초기화\n",
    "cal2 = Calculator()  # __init__이 호출되어 cal2.result = 0으로 초기화\n",
    "\n",
    "print(cal1.add(3))\n",
    "print(cal1.add(4))\n",
    "print(cal2.add(3))\n",
    "print(cal2.add(7))"
   ]
  },
  {
   "cell_type": "code",
   "execution_count": 13,
   "id": "a5656f98-8f9c-4c83-9b60-8065893e6306",
   "metadata": {},
   "outputs": [
    {
     "name": "stdout",
     "output_type": "stream",
     "text": [
      "4\n",
      "2\n",
      "6\n",
      "2.0\n"
     ]
    }
   ],
   "source": [
    "class FourCal:\n",
    "     def __init__(self, first, second):\n",
    "         self.first = first\n",
    "         self.second = second\n",
    "     def setdata(self, first, second):\n",
    "         self.first = first\n",
    "         self.second = second\n",
    "     def add(self):\n",
    "         result = self.first + self.second\n",
    "         return result\n",
    "     def mul(self):\n",
    "         result = self.first * self.second\n",
    "         return result\n",
    "     def sub(self):\n",
    "         result = self.first - self.second\n",
    "         return result\n",
    "     def div(self):\n",
    "         result = self.first / self.second\n",
    "         return result\n",
    "\n",
    "a = FourCal(4, 2)\n",
    "print(a.first)\n",
    "print(a.second)\n",
    "\n",
    "print(a.add())\n",
    "print(a.div())"
   ]
  },
  {
   "cell_type": "markdown",
   "id": "5cfc2e71-8f8b-48dc-86b3-974cd49d2acd",
   "metadata": {},
   "source": [
    "## 2. 클래스의 상속\n",
    "부모 클래스의 기능을 상속받아 사용 가능"
   ]
  },
  {
   "cell_type": "code",
   "execution_count": 18,
   "id": "c0228f96-54c6-423d-bb68-c2b59b2239eb",
   "metadata": {},
   "outputs": [
    {
     "name": "stdout",
     "output_type": "stream",
     "text": [
      "6\n",
      "2.0\n",
      "16\n"
     ]
    }
   ],
   "source": [
    "class MoreFourCal(FourCal):  # FourCald에 정의된 메소드 사용 가능\n",
    "    def pow(self):\n",
    "        result = self.first ** self.second\n",
    "        return result\n",
    "\n",
    "b = MoreFourCal(4, 2)\n",
    "print(b.add())\n",
    "print(b.div())\n",
    "print(b.pow())"
   ]
  },
  {
   "cell_type": "markdown",
   "id": "00a351c9-aab4-4217-9f84-3b93af2d8863",
   "metadata": {},
   "source": [
    "## 3. 메서드 오버라이딩\n",
    "부모 클래스의 메소드를 동일한 이름으로 다시 만드는 것"
   ]
  },
  {
   "cell_type": "code",
   "execution_count": 19,
   "id": "2c1297d9-651f-4291-aa37-3c7a373a490b",
   "metadata": {},
   "outputs": [
    {
     "ename": "ZeroDivisionError",
     "evalue": "division by zero",
     "output_type": "error",
     "traceback": [
      "\u001b[1;31m---------------------------------------------------------------------------\u001b[0m",
      "\u001b[1;31mZeroDivisionError\u001b[0m                         Traceback (most recent call last)",
      "Cell \u001b[1;32mIn[19], line 2\u001b[0m\n\u001b[0;32m      1\u001b[0m a \u001b[38;5;241m=\u001b[39m FourCal(\u001b[38;5;241m4\u001b[39m, \u001b[38;5;241m0\u001b[39m)\n\u001b[1;32m----> 2\u001b[0m a\u001b[38;5;241m.\u001b[39mdiv()\n",
      "Cell \u001b[1;32mIn[13], line 18\u001b[0m, in \u001b[0;36mFourCal.div\u001b[1;34m(self)\u001b[0m\n\u001b[0;32m     17\u001b[0m \u001b[38;5;28;01mdef\u001b[39;00m \u001b[38;5;21mdiv\u001b[39m(\u001b[38;5;28mself\u001b[39m):\n\u001b[1;32m---> 18\u001b[0m     result \u001b[38;5;241m=\u001b[39m \u001b[38;5;28mself\u001b[39m\u001b[38;5;241m.\u001b[39mfirst \u001b[38;5;241m/\u001b[39m \u001b[38;5;28mself\u001b[39m\u001b[38;5;241m.\u001b[39msecond\n\u001b[0;32m     19\u001b[0m     \u001b[38;5;28;01mreturn\u001b[39;00m result\n",
      "\u001b[1;31mZeroDivisionError\u001b[0m: division by zero"
     ]
    }
   ],
   "source": [
    "a = FourCal(4, 0)\n",
    "a.div()"
   ]
  },
  {
   "cell_type": "code",
   "execution_count": 22,
   "id": "9736d774-7dcd-4bf5-bfce-6d8e46775e1c",
   "metadata": {},
   "outputs": [
    {
     "data": {
      "text/plain": [
       "0"
      ]
     },
     "execution_count": 22,
     "metadata": {},
     "output_type": "execute_result"
    }
   ],
   "source": [
    "#부모 클래스의 메소드를 동일한 이름으로 다시 만든다\n",
    "\n",
    "class SafeFourCal(FourCal):\n",
    "     def div(self):\n",
    "         if self.second == 0:  # 나누는 값이 0인 경우 0을 리턴하도록 수정\n",
    "             return 0\n",
    "         else:\n",
    "             return self.first / self.second\n",
    "\n",
    "\n",
    "a = SafeFourCal(4, 0)\n",
    "a.div()"
   ]
  },
  {
   "cell_type": "markdown",
   "id": "94e02c4b-4162-4dc9-b8b9-90f11ba85cc4",
   "metadata": {},
   "source": [
    "## 4. 클래스 변수\n",
    "클래스에 또 다른 이름 지정가능(자주 사용하진 X)"
   ]
  },
  {
   "cell_type": "code",
   "execution_count": 31,
   "id": "bb066751-6f00-4ee5-9bdb-c91518b6a548",
   "metadata": {},
   "outputs": [
    {
     "data": {
      "text/plain": [
       "'haseo'"
      ]
     },
     "execution_count": 31,
     "metadata": {},
     "output_type": "execute_result"
    }
   ],
   "source": [
    "class Family:\n",
    "     lastname = \"haseo\"\n",
    "\n",
    "Family.lastname"
   ]
  },
  {
   "cell_type": "code",
   "execution_count": 32,
   "id": "e928fe1a-b937-40ae-afb5-2d4d0440debc",
   "metadata": {},
   "outputs": [
    {
     "name": "stdout",
     "output_type": "stream",
     "text": [
      "haseo\n",
      "haseo\n"
     ]
    }
   ],
   "source": [
    "a = Family()\n",
    "b = Family()\n",
    "print(a.lastname)\n",
    "print(b.lastname)"
   ]
  },
  {
   "cell_type": "code",
   "execution_count": 33,
   "id": "0d4952a5-e23a-42c1-b0c1-9c32cdff2dfa",
   "metadata": {},
   "outputs": [
    {
     "data": {
      "text/plain": [
       "'jisu'"
      ]
     },
     "execution_count": 33,
     "metadata": {},
     "output_type": "execute_result"
    }
   ],
   "source": [
    "Family.lastname = \"jisu\"\n",
    "Family.lastname"
   ]
  },
  {
   "cell_type": "code",
   "execution_count": null,
   "id": "23336625-5c53-4ef7-81f6-5d8263cdcaf2",
   "metadata": {},
   "outputs": [],
   "source": []
  }
 ],
 "metadata": {
  "kernelspec": {
   "display_name": "Python 3 (ipykernel)",
   "language": "python",
   "name": "python3"
  },
  "language_info": {
   "codemirror_mode": {
    "name": "ipython",
    "version": 3
   },
   "file_extension": ".py",
   "mimetype": "text/x-python",
   "name": "python",
   "nbconvert_exporter": "python",
   "pygments_lexer": "ipython3",
   "version": "3.12.7"
  }
 },
 "nbformat": 4,
 "nbformat_minor": 5
}
