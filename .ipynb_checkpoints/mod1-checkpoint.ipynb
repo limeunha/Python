{
 "cells": [
  {
   "cell_type": "code",
   "execution_count": 1,
   "id": "0fb916e3-34d6-44a6-9e57-9b4bb32cc07a",
   "metadata": {},
   "outputs": [],
   "source": [
    "def add(a, b):\n",
    "    return a + b\n",
    "\n",
    "def sub(a, b): \n",
    "    return a-b\n",
    "\n",
    "PI = 3.141592\n",
    "\n",
    "class Math: \n",
    "    def solv(self, r): \n",
    "        return PI * (r ** 2) "
   ]
  },
  {
   "cell_type": "code",
   "execution_count": null,
   "id": "7ad8cc23-c3fe-43f2-8384-ee99832fdb46",
   "metadata": {},
   "outputs": [],
   "source": []
  }
 ],
 "metadata": {
  "kernelspec": {
   "display_name": "Python 3 (ipykernel)",
   "language": "python",
   "name": "python3"
  },
  "language_info": {
   "codemirror_mode": {
    "name": "ipython",
    "version": 3
   },
   "file_extension": ".py",
   "mimetype": "text/x-python",
   "name": "python",
   "nbconvert_exporter": "python",
   "pygments_lexer": "ipython3",
   "version": "3.12.7"
  }
 },
 "nbformat": 4,
 "nbformat_minor": 5
}
