{
 "cells": [
  {
   "cell_type": "code",
   "execution_count": 29,
   "id": "abcf56c0-333b-4e56-9334-70273c20c87f",
   "metadata": {},
   "outputs": [
    {
     "name": "stdout",
     "output_type": "stream",
     "text": [
      "안녕 파이썬, 반가워!\n"
     ]
    }
   ],
   "source": [
    "print(\"안녕 파이썬, 반가워!\")"
   ]
  },
  {
   "cell_type": "markdown",
   "id": "c1b663fd-e483-4774-9d60-6f2790644f1e",
   "metadata": {},
   "source": [
    "# 제목 1 (가장 큰 제목)\n",
    "## 제목 2\n",
    "### 제목 3"
   ]
  },
  {
   "cell_type": "markdown",
   "id": "dbf89b69-8990-49ef-8cf7-ab77b930c6c9",
   "metadata": {},
   "source": [
    "**굵은 글씨**\r\n",
    "*기울임 글씨*\r\n",
    "***굵은 기울임 글씨***\r\n"
   ]
  },
  {
   "cell_type": "markdown",
   "id": "cd172437-fc02-4560-9320-e406cc437b3b",
   "metadata": {},
   "source": [
    "1. 첫 번째 아이템\n",
    "2. 두 번째 아이템\n",
    "    1. 하위 아이템\n",
    "    2. 하위 아이템\n",
    "\n",
    "- 첫 번째 아이템\n",
    "- 두 번째 아이템\n",
    "    - 하위 아이템\n",
    "    - 하위 아이템"
   ]
  },
  {
   "cell_type": "markdown",
   "id": "5bb3c494-88d4-4f98-9ecd-d85f3be7d1a5",
   "metadata": {},
   "source": [
    "`inline code`\r\n"
   ]
  },
  {
   "cell_type": "markdown",
   "id": "09f77364-32dc-495d-a02c-b83f9a5bd7b3",
   "metadata": {},
   "source": [
    "> 이것은 인용구입니다.\n",
    "수식\r\n"
   ]
  },
  {
   "cell_type": "markdown",
   "id": "4e8e2d33-7900-43b7-bc10-cef39e996928",
   "metadata": {},
   "source": [
    "___"
   ]
  },
  {
   "cell_type": "markdown",
   "id": "94ea80e2-7d92-4bb5-bb1f-a72e99be85d8",
   "metadata": {},
   "source": [
    "[링크 텍스트](https://www.naver.com/)\n",
    "\n",
    "![이미지 설명](https://i.namu.wiki/i/mxMv5lNX8m8lUwu7yTjN6eNZh8JVuI6a_chEyMRc4V9oECkhVIl7OiPiGIOllv14uDVNuwRPVco8abCPe5xOiQ.svg)"
   ]
  },
  {
   "cell_type": "code",
   "execution_count": null,
   "id": "4eef108b-a1e5-4064-8381-bf0405a380bd",
   "metadata": {},
   "outputs": [],
   "source": []
  }
 ],
 "metadata": {
  "kernelspec": {
   "display_name": "Python 3 (ipykernel)",
   "language": "python",
   "name": "python3"
  },
  "language_info": {
   "codemirror_mode": {
    "name": "ipython",
    "version": 3
   },
   "file_extension": ".py",
   "mimetype": "text/x-python",
   "name": "python",
   "nbconvert_exporter": "python",
   "pygments_lexer": "ipython3",
   "version": "3.12.4"
  }
 },
 "nbformat": 4,
 "nbformat_minor": 5
}
