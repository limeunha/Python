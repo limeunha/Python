{
 "cells": [
  {
   "cell_type": "markdown",
   "id": "c030aa77-5a7a-44de-b4e5-050d35463bfa",
   "metadata": {},
   "source": [
    "### 1. 숫자형"
   ]
  },
  {
   "cell_type": "code",
   "execution_count": 46,
   "id": "eac3a849-cbe5-4d66-a1b6-78eee6117a00",
   "metadata": {},
   "outputs": [
    {
     "name": "stdout",
     "output_type": "stream",
     "text": [
      "123\n",
      "-178\n",
      "0\n"
     ]
    }
   ],
   "source": [
    "# 주석: 프로그램 실행시 실행되지 않습니다(단축키 ctrl + /) \n",
    "\n",
    "# 정수형\n",
    "\n",
    "a = 123\n",
    "b = -178\n",
    "c = 0\n",
    "\n",
    "print(a)\n",
    "print(b)\n",
    "print(c)"
   ]
  },
  {
   "cell_type": "code",
   "execution_count": 48,
   "id": "2352e6e7-bc88-4ddc-8e46-222fa6d98faf",
   "metadata": {},
   "outputs": [
    {
     "name": "stdout",
     "output_type": "stream",
     "text": [
      "1.2 -3.45\n",
      "520.0\n",
      "0.52\n"
     ]
    }
   ],
   "source": [
    "# 실수형\n",
    "a = 1.2\n",
    "b = -3.45\n",
    "c = 5.2E2\n",
    "d = 5.2E-1\n",
    "\n",
    "print(a, b)\n",
    "print(c)\n",
    "print(d)"
   ]
  },
  {
   "cell_type": "code",
   "execution_count": 50,
   "id": "3997ca82-2a54-4446-89d3-fcc4305d8c3d",
   "metadata": {},
   "outputs": [
    {
     "name": "stdout",
     "output_type": "stream",
     "text": [
      "127\n",
      "2303\n",
      "2748\n"
     ]
    }
   ],
   "source": [
    "# 8진수와 16진수\n",
    "\n",
    "a = 0o177\n",
    "print(a)\n",
    "\n",
    "b = 0x8ff\n",
    "print(b)\n",
    "\n",
    "c = 0xABC\n",
    "print(c)"
   ]
  },
  {
   "cell_type": "code",
   "execution_count": 52,
   "id": "91e14a7d-eaf8-4acc-8d08-cab7e3ecfb7d",
   "metadata": {},
   "outputs": [
    {
     "name": "stdout",
     "output_type": "stream",
     "text": [
      "7\n",
      "-1\n",
      "12\n",
      "0.75\n"
     ]
    }
   ],
   "source": [
    "# 사칙연산\n",
    "\n",
    "a = 3\n",
    "b = 4\n",
    "c = a + b\n",
    "\n",
    "print(c)\n",
    "print(a - b)\n",
    "print(a * b)\n",
    "print(a / b) "
   ]
  },
  {
   "cell_type": "code",
   "execution_count": 54,
   "id": "f28dd0b1-50ce-4ffa-9b47-4aec1595e096",
   "metadata": {},
   "outputs": [
    {
     "name": "stdout",
     "output_type": "stream",
     "text": [
      "1\n",
      "2\n",
      "81\n"
     ]
    }
   ],
   "source": [
    "print(7 % 3) #나머지\n",
    "print(7 // 3) #몫\n",
    "print(a ** b) #제곱"
   ]
  },
  {
   "cell_type": "markdown",
   "id": "459cbdaf-a82d-43da-b75a-a9036c48749a",
   "metadata": {},
   "source": [
    "### 2. 문자열"
   ]
  },
  {
   "cell_type": "code",
   "execution_count": 56,
   "id": "5a73087f-db1e-42b8-a393-5999301d700c",
   "metadata": {},
   "outputs": [
    {
     "name": "stdout",
     "output_type": "stream",
     "text": [
      "Hello world!\n",
      "Hello world!\n",
      "Hello world!\n",
      "Hello world!\n"
     ]
    }
   ],
   "source": [
    "# 문자열을 사용하는 4가지 방법\n",
    "\n",
    "print(\"Hello world!\")\n",
    "print('Hello world!')\n",
    "print(\"\"\"Hello world!\"\"\")\n",
    "print('''Hello world!''')"
   ]
  },
  {
   "cell_type": "code",
   "execution_count": 58,
   "id": "0cb06e75-1f0a-452b-8b1f-57ee9e5ac2a1",
   "metadata": {},
   "outputs": [
    {
     "name": "stdout",
     "output_type": "stream",
     "text": [
      "Python's favorite food is perl\n",
      "\"Python is very easy.\" he says\n"
     ]
    }
   ],
   "source": [
    "# 문자열 안에 작은따옴표나 큰따옴표를 포함\n",
    "food = \"Python's favorite food is perl\"\n",
    "print(food)\n",
    "\n",
    "say = '\"Python is very easy.\" he says'\n",
    "print(say)\n",
    "\n",
    "# 오류발생 - 작은따옴표 안에 작은 따옴표 X\n",
    "# food = 'Python's favorite food is perl'\n",
    "# print(food)\n",
    "\n",
    "# 오류발생 - 큰따옴표 안에 큰 따옴표 X\n",
    "# say = \"\"Python is very easy.\" he says\"\n",
    "# print(say)"
   ]
  },
  {
   "cell_type": "code",
   "execution_count": 60,
   "id": "149e70b9-e5d4-4331-ab7f-cb6225e46b9d",
   "metadata": {},
   "outputs": [
    {
     "name": "stdout",
     "output_type": "stream",
     "text": [
      "Python's favorite food is perl\n",
      "\"Python is very easy.\" he says\n"
     ]
    }
   ],
   "source": [
    "# 역슬래시를 사용해 작은따옴표와 큰 따옴표 표현\n",
    "food = 'Python\\'s favorite food is perl'\n",
    "print(food)\n",
    "\n",
    "say = \"\\\"Python is very easy.\\\" he says\"\n",
    "print(say)"
   ]
  },
  {
   "cell_type": "code",
   "execution_count": 62,
   "id": "ffc502c0-ace0-4e3e-a9e6-78559ca51b4a",
   "metadata": {},
   "outputs": [
    {
     "name": "stdout",
     "output_type": "stream",
     "text": [
      "Life is too short\n",
      "You need python\n",
      "\n",
      "Life is too short\n",
      "You need python\n",
      "\n"
     ]
    }
   ],
   "source": [
    "# 여러 줄인 문자열을 변수에 대입하고 싶을 때\n",
    "\n",
    "# 1. 이스케이프 코드 사용\n",
    "multiline = \"Life is too short\\nYou need python\"\n",
    "print(multiline)\n",
    "\n",
    "# 2. 작은따옴표 3개, 큰따옴표 3개 이용하기\n",
    "multiline = '''\n",
    "Life is too short\n",
    "You need python\n",
    "'''\n",
    "print(multiline)"
   ]
  },
  {
   "cell_type": "code",
   "execution_count": 80,
   "id": "15ac9eec-7bf1-408c-b896-ce63552e4e29",
   "metadata": {},
   "outputs": [
    {
     "name": "stdout",
     "output_type": "stream",
     "text": [
      "Python is fun!\n",
      "Python version3\n",
      "pythonpython\n",
      "==================================================\n",
      "My Program\n",
      "==================================================\n"
     ]
    },
    {
     "data": {
      "text/plain": [
       "17"
      ]
     },
     "execution_count": 80,
     "metadata": {},
     "output_type": "execute_result"
    }
   ],
   "source": [
    "# 문자열 연산\n",
    "\n",
    "# 1. 문자열 더하기\n",
    "head = \"Python\"\n",
    "tail = \" is fun!\"\n",
    "num = 3\n",
    "body = head + tail\n",
    "print(body)\n",
    "print(head + \" version\"+ str(num)) #숫자와 연산시 str을 이용해 문자열로 변경해줘야함\n",
    "\n",
    "# 2. 문자열 곱하기\n",
    "a = \"python\"\n",
    "print(a * 2)\n",
    "\n",
    "print(\"=\" * 50)\n",
    "print(\"My Program\")\n",
    "print(\"=\" * 50)\n",
    "\n",
    "# 3. 문자열 길이\n",
    "a = \"Life is too short\"\n",
    "len(a)"
   ]
  },
  {
   "cell_type": "markdown",
   "id": "1b0b1084-1ef0-42a0-b2ac-03f4cae86352",
   "metadata": {},
   "source": [
    "- 문자열 인덱스\n",
    "![문자열](https://i.postimg.cc/W44nS9cX/str-index.png)"
   ]
  },
  {
   "cell_type": "code",
   "execution_count": 104,
   "id": "ffd8136e-1919-4c28-ba89-143d78d108a3",
   "metadata": {},
   "outputs": [
    {
     "name": "stdout",
     "output_type": "stream",
     "text": [
      "e\n",
      "L\n",
      "s\n",
      "n\n",
      "L\n",
      "o\n",
      "y\n",
      "==================================================\n",
      "Life\n",
      "Life\n",
      "Lif\n",
      "==================================================\n",
      "Life \n",
      "is\n",
      "short\n",
      "==================================================\n",
      "You need python\n",
      "Life is too short\n",
      "Life is too short, You need python\n",
      "You need\n"
     ]
    }
   ],
   "source": [
    "# 문자열 인덱싱과 슬라이싱 \n",
    "\n",
    "# 문자열 인덱싱(가르키다)\n",
    "a = \"Life is too short, You need python\"\n",
    "print(a[3])\n",
    "print(a[0])\n",
    "print(a[12])\n",
    "print(a[-1])\n",
    "print(a[-0])\n",
    "print(a[-2])\n",
    "print(a[-5])\n",
    "\n",
    "print(\"=\" * 50)\n",
    "\n",
    "# 문자열 슬라이싱(잘라낸다)\n",
    "a = \"Life is too short, You need python\"\n",
    "b = a[0] + a[1] + a[2] + a[3]\n",
    "print(b)\n",
    "\n",
    "b = a[0:4]\n",
    "print(b)\n",
    "print(a[0:3])\n",
    "\n",
    "print(\"=\" * 50)\n",
    "\n",
    "print(a[0:5]) # 공백 포함\n",
    "print(a[5:7])\n",
    "print(a[12:17])\n",
    "\n",
    "print(\"=\" * 50)\n",
    "print(a[19:])\n",
    "print(a[:17])\n",
    "print(a[:])\n",
    "print(a[19:-7])\n"
   ]
  },
  {
   "cell_type": "code",
   "execution_count": 119,
   "id": "f8eca18e-4687-43bd-a457-cac114d4d279",
   "metadata": {},
   "outputs": [
    {
     "name": "stdout",
     "output_type": "stream",
     "text": [
      "20230331\n",
      "Rainy\n",
      "2023\n",
      "0331\n"
     ]
    }
   ],
   "source": [
    "#슬라이싱으로 문자열 나누기 응용\n",
    "\n",
    "a = \"20230331Rainy\"\n",
    "date = a[:8]\n",
    "weather = a[8:]\n",
    "print(date)\n",
    "print(weather)\n",
    "\n",
    "year = a[:4]\n",
    "day = a[4:8]\n",
    "print(year)\n",
    "print(day)\n"
   ]
  },
  {
   "cell_type": "code",
   "execution_count": 12,
   "id": "954db18b-2873-49e2-890a-6495b015878a",
   "metadata": {},
   "outputs": [
    {
     "name": "stdout",
     "output_type": "stream",
     "text": [
      "P\n",
      "thon\n",
      "Python\n"
     ]
    }
   ],
   "source": [
    "#문자열 바꾸기 응용\n",
    "\n",
    "a = \"Pithon\"\n",
    "\n",
    "# 바꾸는 방법1 - 에러발생\n",
    "# print(a[1])\n",
    "# a[1] = 'y' \n",
    "# print(a)\n",
    "\n",
    "print(a[:1])\n",
    "print(a[2:])\n",
    "print(a[:1] + 'y' + a[2:])"
   ]
  },
  {
   "cell_type": "code",
   "execution_count": 26,
   "id": "57e29c3c-0801-4393-a5aa-0f275a7bcb5d",
   "metadata": {},
   "outputs": [
    {
     "name": "stdout",
     "output_type": "stream",
     "text": [
      "I eat 3 apples.\n",
      "I eat five apples.\n",
      "I eat 3 apples.\n",
      "I eat 10 apples. so I was sick for three days.\n",
      "I eat 3 apples.\n",
      "I eat 3.234 apples.\n"
     ]
    }
   ],
   "source": [
    "#문자열 포매팅\n",
    "\n",
    "# 1. 숫자 바로 대입\n",
    "print(\"I eat %d apples.\" % 3)\n",
    "\n",
    "# 2. 문자열 바로 대입\n",
    "print(\"I eat %s apples.\" % \"five\")\n",
    "\n",
    "# 3. 숫자 값을 나타내는 변수로 대입\n",
    "number = 3\n",
    "print(\"I eat %d apples.\" % number)\n",
    "\n",
    "# 4. 2개 이상의 값 넣기 \n",
    "number = 10\n",
    "day = \"three\"\n",
    "print(\"I eat %d apples. so I was sick for %s days.\" % (number, day))\n",
    "\n",
    "# 5. 어떤 값이든 문자로 변환한다\n",
    "print(\"I eat %s apples.\" % 3)\n",
    "print(\"I eat %s apples.\" % 3.234)"
   ]
  },
  {
   "cell_type": "code",
   "execution_count": 34,
   "id": "b7d93a41-4cf8-46b8-89c4-6b9f0ff4c7c0",
   "metadata": {},
   "outputs": [
    {
     "name": "stdout",
     "output_type": "stream",
     "text": [
      "        hi\n",
      "hi         jane.\n",
      "3.4213\n",
      "    3.4213\n"
     ]
    }
   ],
   "source": [
    "# 포맷 코드와 숫자 함께 사용하기\n",
    "\n",
    "#정렬과 공백\n",
    "print(\"%10s\" % \"hi\")\n",
    "print(\"%-10s jane.\" % \"hi\")\n",
    "\n",
    "#소수점 표현\n",
    "print(\"%0.4f\" % 3.42134234)\n",
    "print(\"%10.4f\" % 3.42134234)"
   ]
  },
  {
   "cell_type": "code",
   "execution_count": 60,
   "id": "edfb4d70-14cf-466a-bf7d-1850c3611faf",
   "metadata": {},
   "outputs": [
    {
     "name": "stdout",
     "output_type": "stream",
     "text": [
      "I eat 3 apples.\n",
      "I eat 3 apples.\n",
      "I eat 10 apples. so I was sick for three days.\n",
      "I eat 10 apples. so I was sick for 3 days.\n",
      "I eat 10 apples. so I was sick for 3 days.\n",
      "hi        \n",
      "        hi\n",
      "    hi    \n",
      "====hi====\n",
      "hi!!!!!!!!\n",
      "3.4213\n"
     ]
    }
   ],
   "source": [
    "# format 함수를 사용한 포매팅\n",
    "\n",
    "# 숫자 바로 대입\n",
    "print(\"I eat {0} apples.\".format(3))\n",
    "\n",
    "# 숫자 값을 가진 변수로 대입\n",
    "number = 3\n",
    "print(\"I eat {0} apples.\".format(number))\n",
    "\n",
    "# 2개 이상의 값 넣기\n",
    "number = 10\n",
    "day = \"three\"\n",
    "print(\"I eat {0} apples. so I was sick for {1} days.\".format(number, day))\n",
    "\n",
    "# 이름으로 넣기\n",
    "print(\"I eat {number} apples. so I was sick for {day} days.\".format(number=10, day=3))\n",
    "\n",
    "# 인덱스와 이름을 혼용해서 넣기\n",
    "print(\"I eat {0} apples. so I was sick for {day} days.\".format(10, day=3))\n",
    "\n",
    "# 왼쪽 정렬\n",
    "print(\"{0:<10}\".format(\"hi\"))\n",
    "\n",
    "# 오른쪽 정렬\n",
    "print(\"{0:>10}\".format(\"hi\"))\n",
    "\n",
    "# 가운데 정렬\n",
    "print(\"{0:^10}\".format(\"hi\"))\n",
    "\n",
    "# 공백 채우기\n",
    "print(\"{0:=^10}\".format(\"hi\"))\n",
    "print(\"{0:!<10}\".format(\"hi\"))\n",
    "\n",
    "# 소수점 표현하기\n",
    "y = 3.42134234\n",
    "print(\"{0:0.4f}\".format(y))\n"
   ]
  },
  {
   "cell_type": "code",
   "execution_count": 94,
   "id": "654fdbc7-11e1-40ad-8689-b3043f3daa04",
   "metadata": {},
   "outputs": [
    {
     "name": "stdout",
     "output_type": "stream",
     "text": [
      "나의 이름은 홍길동 이고, 나이는 30입니다.\n",
      "나의 이름은 홍길동 이고, 나이는 31입니다.\n",
      "hi        \n",
      "        hi\n",
      "    hi    \n",
      "====hi====\n",
      "hi!!!!!!!!\n",
      "3.4213\n",
      "    3.4213\n"
     ]
    }
   ],
   "source": [
    "# f문자열 포매팅(파이썬 3.6부터 제공)\n",
    "\n",
    "name = '홍길동'\n",
    "age = 30\n",
    "print(f'나의 이름은 {name} 이고, 나이는 {age}입니다.')\n",
    "print(f'나의 이름은 {name} 이고, 나이는 {age + 1}입니다.')\n",
    "\n",
    "#정렬\n",
    "print(f'{\"hi\":<10}')\n",
    "print(f'{\"hi\":>10}')\n",
    "print(f'{\"hi\":^10}')\n",
    "print(f'{\"hi\":=^10}')\n",
    "print(f'{\"hi\":!<10}')\n",
    "\n",
    "#소수점\n",
    "y = 3.42134234\n",
    "print(f'{y:0.4f}')\n",
    "print(f'{y:10.4f}')"
   ]
  },
  {
   "cell_type": "code",
   "execution_count": 134,
   "id": "c09d2d39-65e0-4238-9cba-2f30a534c403",
   "metadata": {},
   "outputs": [
    {
     "name": "stdout",
     "output_type": "stream",
     "text": [
      "2\n",
      "-1\n",
      "-1\n",
      "8\n",
      "a,b,c,d\n",
      "==================================================\n",
      "HI\n",
      "hi\n",
      "==================================================\n",
      "hi   \n",
      "   hi\n",
      "hi\n",
      "==================================================\n",
      "Your leg is too short\n",
      "['Life', 'is', 'too', 'short']\n",
      "['류수영', ' 이승윤', ' 유이', ' 서인국']\n"
     ]
    }
   ],
   "source": [
    "# 문자열 관련 함수들\n",
    "\n",
    "# 문자 개수 세기\n",
    "a = \"hobby\"\n",
    "print(a.count('b')) # b의 갯수\n",
    "\n",
    "# 위치 알려주기1 - find\n",
    "a = \"Python is the best chioce\"\n",
    "print(a.find('a'))\n",
    "print(a.find('k'))\n",
    "\n",
    "# 위치 알려주기2 - index\n",
    "a = \"Life is too short\"\n",
    "print(a.index('t'))\n",
    "# print(a.index('k'))\n",
    "\n",
    "# 문자열 삽입 \n",
    "print(\",\".join('abcd'))\n",
    "\n",
    "\n",
    "print(\"=\"*50)\n",
    "\n",
    "# 소문자 -> 대문자\n",
    "a = \"hi\"\n",
    "print(a.upper())\n",
    "\n",
    "# 대문자 -> 소문자\n",
    "a = \"HI\"\n",
    "print(a.lower())\n",
    "\n",
    "print(\"=\"*50)\n",
    "\n",
    "# 왼쪽 공백 지우기\n",
    "a = \"   hi   \"\n",
    "print(a.lstrip())\n",
    "\n",
    "# 오른쪽 공백 지우기\n",
    "a = \"   hi   \"\n",
    "print(a.rstrip())\n",
    "\n",
    "# 양쪽 공백 지우기\n",
    "a = \"   hi   \"\n",
    "print(a.strip())\n",
    "\n",
    "print(\"=\"*50)\n",
    "\n",
    "# 문자열 바꾸기\n",
    "a = \"Life is too short\"\n",
    "print(a.replace(\"Life\", \"Your leg\"))\n",
    "\n",
    "# 문자열 나누기\n",
    "a = \"Life is too short\"\n",
    "print(a.split()) #리스트 형태로 출력\n",
    "\n",
    "b = \"류수영, 이승윤, 유이, 서인국\"\n",
    "print(b.split(\",\"))"
   ]
  },
  {
   "cell_type": "code",
   "execution_count": 132,
   "id": "1b6d0d17-604c-4b9d-bf71-39a1f4a62c05",
   "metadata": {},
   "outputs": [
    {
     "name": "stdout",
     "output_type": "stream",
     "text": [
      "Life is too short\n",
      "Your leg is too short\n"
     ]
    }
   ],
   "source": [
    "# !!!착각하기 쉬운 문자열 함수\n",
    "\n",
    "a = \"Life is too short\"\n",
    "a.replace(\"Life\", \"Your leg\")\n",
    "print(a)\n",
    "\n",
    "#문자열 함수 사용시 문자열 자체의 값이 변경되는 것이 아니라 변경된 값을 리턴(전달)해 준다.\n",
    "b= a.replace(\"Life\", \"Your leg\")\n",
    "print(b) "
   ]
  },
  {
   "cell_type": "markdown",
   "id": "1efad027-285a-4506-b441-b3b3a235d96d",
   "metadata": {},
   "source": [
    "### 3. 리스트\n",
    "- 데이터의 모음을 표현하기 위한 자료형"
   ]
  },
  {
   "cell_type": "code",
   "execution_count": 8,
   "id": "e5bfdf77-52f2-4a89-9870-1cc1e445eff3",
   "metadata": {},
   "outputs": [
    {
     "name": "stdout",
     "output_type": "stream",
     "text": [
      "[]\n",
      "[1, 2, 3]\n",
      "['Life', 'is', 'too', 'short']\n",
      "[1, 2, 'Life', 'is']\n",
      "[1, 2, ['Life', 'is']]\n"
     ]
    }
   ],
   "source": [
    "a = []\n",
    "b = [1, 2, 3]\n",
    "c = ['Life', 'is', 'too', 'short']\n",
    "d = [1, 2, 'Life', 'is']\n",
    "e = [1, 2, ['Life', 'is']]\n",
    "\n",
    "print(a)\n",
    "print(b)\n",
    "print(c)\n",
    "print(d)\n",
    "print(e)"
   ]
  },
  {
   "cell_type": "code",
   "execution_count": 54,
   "id": "5372e461-bdcd-42fa-9bce-94468d7dda7e",
   "metadata": {},
   "outputs": [
    {
     "name": "stdout",
     "output_type": "stream",
     "text": [
      "1\n",
      "4\n",
      "3\n",
      "==================================================\n",
      "1\n",
      "['a', 'b', 'c']\n",
      "['a', 'b', 'c']\n",
      "a\n",
      "b\n",
      "c\n",
      "a\n",
      "b\n",
      "c\n"
     ]
    }
   ],
   "source": [
    "#리스트의 인덱싱\n",
    "\n",
    "a = [1, 2, 3]\n",
    "print(a[0])\n",
    "print(a[0] + a[2])\n",
    "print(a[-1])\n",
    "\n",
    "print(\"=\"*50)\n",
    "\n",
    "a = [1, 2, 3, ['a', 'b', 'c']]\n",
    "print(a[0])\n",
    "print(a[-1])\n",
    "print(a[3])\n",
    "\n",
    "print(a[-1][0])\n",
    "print(a[-1][1])\n",
    "print(a[-1][2])\n",
    "\n",
    "print(a[3][0])\n",
    "print(a[3][1])\n",
    "print(a[3][2])"
   ]
  },
  {
   "cell_type": "code",
   "execution_count": 56,
   "id": "719df088-2bc8-440d-9b82-75e74915adf3",
   "metadata": {},
   "outputs": [
    {
     "name": "stdout",
     "output_type": "stream",
     "text": [
      "[1, 2]\n",
      "[1, 2]\n",
      "[3, 4, 5]\n"
     ]
    }
   ],
   "source": [
    "#리스트의 슬라이싱\n",
    "\n",
    "a = [1, 2, 3, 4, 5]\n",
    "print(a[0:2])\n",
    "\n",
    "b = a[:2]\n",
    "c = a[2:]\n",
    "print(b)\n",
    "print(c)"
   ]
  },
  {
   "cell_type": "code",
   "execution_count": 58,
   "id": "a2285ee0-3a0f-4efd-8498-99a789bfaab3",
   "metadata": {},
   "outputs": [
    {
     "name": "stdout",
     "output_type": "stream",
     "text": [
      "[3, ['a', 'b', 'c'], 4]\n",
      "['a', 'b', 'c']\n",
      "['a', 'b']\n"
     ]
    }
   ],
   "source": [
    "#중첩된 리스트에서 슬라이싱 하기\n",
    "\n",
    "a = [1, 2, 3, ['a', 'b', 'c'], 4, 5]\n",
    "print(a[2:5])\n",
    "print(a[3])\n",
    "print(a[3][:2])"
   ]
  },
  {
   "cell_type": "code",
   "execution_count": 68,
   "id": "f8da389d-1126-4af7-807b-48a1dadf10f3",
   "metadata": {},
   "outputs": [
    {
     "name": "stdout",
     "output_type": "stream",
     "text": [
      "[1, 2, 3, 4, 5, 6]\n",
      "[1, 2, 3, 1, 2, 3, 1, 2, 3]\n",
      "3\n"
     ]
    }
   ],
   "source": [
    "#리스트 연산하기\n",
    "\n",
    "#리스트 더하기\n",
    "a = [1, 2, 3]\n",
    "b = [4, 5, 6]\n",
    "print(a + b)\n",
    "\n",
    "#리스트 곱하기\n",
    "print(a * 3)\n",
    "\n",
    "#리스트 길이 구하기\n",
    "print(len(a))"
   ]
  },
  {
   "cell_type": "code",
   "execution_count": 84,
   "id": "cd56aa09-c101-47e0-ac05-556ed6437eb3",
   "metadata": {},
   "outputs": [
    {
     "name": "stdout",
     "output_type": "stream",
     "text": [
      "3hi\n"
     ]
    }
   ],
   "source": [
    "#리스트 연산 오류\n",
    "a = [1, 2, 3]\n",
    "# print(a[2] + \"hi\") 오류\n",
    "print(str(a[2]) + \"hi\")"
   ]
  },
  {
   "cell_type": "code",
   "execution_count": 94,
   "id": "e50bbc56-0a7a-4208-82d6-b6cfb7634567",
   "metadata": {},
   "outputs": [
    {
     "name": "stdout",
     "output_type": "stream",
     "text": [
      "[1, 2, 4]\n",
      "[1, 3]\n",
      "[1, 2]\n"
     ]
    }
   ],
   "source": [
    "# 리스트의 값 수정\n",
    "a = [1, 2, 3]\n",
    "a[2] = 4\n",
    "print(a)\n",
    "\n",
    "# 리스트의 값 삭제\n",
    "a = [1, 2, 3]\n",
    "del a[1]\n",
    "print(a)\n",
    "\n",
    "a = [1, 2, 3, 4, 5]\n",
    "del a[2:] # a[2]부터 끝까지 삭제\n",
    "print(a)"
   ]
  },
  {
   "cell_type": "code",
   "execution_count": 132,
   "id": "2b15051b-00f0-4536-9721-20eb8e96696d",
   "metadata": {},
   "outputs": [
    {
     "name": "stdout",
     "output_type": "stream",
     "text": [
      "[1, 2, 3, 4]\n",
      "[1, 2, 3, 4, [5, 6]]\n",
      "[1, 2, 3, 4]\n",
      "['a', 'b', 'c']\n",
      "['b', 'c', 'a']\n",
      "==================================================\n",
      "2\n",
      "0\n",
      "[4, 1, 2, 3]\n",
      "[4, 1, 2, 5, 3]\n",
      "==================================================\n",
      "[1, 2, 1, 2, 3]\n",
      "[1, 2, 1, 2]\n",
      "[1, 2]\n",
      "2\n",
      "==================================================\n",
      "[1, 2, 3, 4, 5]\n",
      "[1, 2, 3, 4, 5, 6, 7]\n"
     ]
    }
   ],
   "source": [
    "# 리스트 관련 함수\n",
    "\n",
    "# 리스트에 요소 추가\n",
    "a = [1, 2, 3]\n",
    "a.append(4)\n",
    "print(a)\n",
    "\n",
    "a.append([5, 6])\n",
    "print(a)\n",
    "\n",
    "# 리스트 정렬\n",
    "a = [1, 4, 3, 2]\n",
    "a.sort()\n",
    "print(a)\n",
    "\n",
    "a = ['a', 'c', 'b']\n",
    "a.sort()\n",
    "print(a)\n",
    "\n",
    "# 리스트 뒤집기\n",
    "a = ['a', 'c', 'b']\n",
    "a.reverse()\n",
    "print(a)\n",
    "\n",
    "print(\"=\"*50)\n",
    "\n",
    "# 인덱스 반환\n",
    "a = [1, 2, 3]\n",
    "print(a.index(3)) # 3은 a의 세 번째(a[2]) 요소\n",
    "print(a.index(1)) # 1은 a의 첫 번째(a[0]) 요소\n",
    "\n",
    "# 리스트에 요소 삽입\n",
    "a = [1, 2, 3]\n",
    "a.insert(0, 4) # a[0] 위치에 4 삽입\n",
    "print(a)\n",
    "\n",
    "a.insert(3, 5) # a[3] 위치에 5 삽입\n",
    "print(a)\n",
    "\n",
    "print(\"=\"*50)\n",
    "\n",
    "# 리스트 요소 제거\n",
    "a = [1, 2, 3, 1, 2, 3]\n",
    "a.remove(3) #첫번째 3만 삭제\n",
    "print(a)\n",
    "a.remove(3)\n",
    "print(a)\n",
    "\n",
    "# 리스트 요소 끄집어 내기\n",
    "a = [1, 2, 3]\n",
    "a.pop()\n",
    "print(a)\n",
    "\n",
    "# 리스트에 포함된 요소 x의 개수 세기\n",
    "a = [1, 2, 3, 1]\n",
    "print(a.count(1)) # 1을 2개 가지고 있음\n",
    "\n",
    "print(\"=\"*50)\n",
    "\n",
    "# 리스트 확장\n",
    "a = [1, 2, 3]\n",
    "a.extend([4, 5])\n",
    "print(a)\n",
    "\n",
    "b = [6, 7]\n",
    "a.extend(b)\n",
    "print(a)"
   ]
  },
  {
   "cell_type": "markdown",
   "id": "6c1ef7a3-b44b-4d84-86b5-686ecadd47b5",
   "metadata": {},
   "source": [
    "### 4. 튜플\n",
    "- 리스트는 [], 튜플은 ()사용\n",
    "- 리스트는 요소값의 생성, 삭제, 수정이 가능하지만 튜플은 요소값을 바꿀 수 없다.\n",
    "- 프로그램이 실행되는 동안 요소값이 변화하면 안되는 경우는 튜플을 사용하고 그렇지 않은 경우는 리스트를 사용한다."
   ]
  },
  {
   "cell_type": "code",
   "execution_count": 13,
   "id": "ecf7e8a0-8770-4bcd-8c45-e6413a16e615",
   "metadata": {},
   "outputs": [
    {
     "name": "stdout",
     "output_type": "stream",
     "text": [
      "()\n",
      "(1,)\n",
      "(1, 2, 3)\n",
      "(1, 2, 3)\n",
      "('a', 'b', ('ab', 'cd'))\n"
     ]
    }
   ],
   "source": [
    "t1 = ()\n",
    "t2 = (1,)\n",
    "# t2 = (1)\n",
    "t3 = (1, 2, 3)\n",
    "t4 = 1, 2, 3\n",
    "t5 = ('a', 'b', ('ab', 'cd'))\n",
    "\n",
    "print(t1)\n",
    "print(t2)\n",
    "print(t3)\n",
    "print(t4)\n",
    "print(t5)"
   ]
  },
  {
   "cell_type": "code",
   "execution_count": 155,
   "id": "bfdfd84a-694b-4586-8bdb-a884880b7287",
   "metadata": {},
   "outputs": [
    {
     "ename": "TypeError",
     "evalue": "'tuple' object doesn't support item deletion",
     "output_type": "error",
     "traceback": [
      "\u001b[1;31m---------------------------------------------------------------------------\u001b[0m",
      "\u001b[1;31mTypeError\u001b[0m                                 Traceback (most recent call last)",
      "Cell \u001b[1;32mIn[155], line 3\u001b[0m\n\u001b[0;32m      1\u001b[0m \u001b[38;5;66;03m# 튜플 요소값을 삭제할때\u001b[39;00m\n\u001b[0;32m      2\u001b[0m t1 \u001b[38;5;241m=\u001b[39m (\u001b[38;5;241m1\u001b[39m, \u001b[38;5;241m2\u001b[39m, \u001b[38;5;124m'\u001b[39m\u001b[38;5;124ma\u001b[39m\u001b[38;5;124m'\u001b[39m, \u001b[38;5;124m'\u001b[39m\u001b[38;5;124mb\u001b[39m\u001b[38;5;124m'\u001b[39m)\n\u001b[1;32m----> 3\u001b[0m \u001b[38;5;28;01mdel\u001b[39;00m t1[\u001b[38;5;241m0\u001b[39m]\n",
      "\u001b[1;31mTypeError\u001b[0m: 'tuple' object doesn't support item deletion"
     ]
    }
   ],
   "source": [
    "# 튜플 요소값을 삭제할때\n",
    "t1 = (1, 2, 'a', 'b')\n",
    "del t1[0]"
   ]
  },
  {
   "cell_type": "code",
   "execution_count": 157,
   "id": "a891ef6c-d063-487f-8fd5-7654aaff2db2",
   "metadata": {},
   "outputs": [
    {
     "ename": "TypeError",
     "evalue": "'tuple' object does not support item assignment",
     "output_type": "error",
     "traceback": [
      "\u001b[1;31m---------------------------------------------------------------------------\u001b[0m",
      "\u001b[1;31mTypeError\u001b[0m                                 Traceback (most recent call last)",
      "Cell \u001b[1;32mIn[157], line 3\u001b[0m\n\u001b[0;32m      1\u001b[0m \u001b[38;5;66;03m# 튜플 요소값을 변경할때\u001b[39;00m\n\u001b[0;32m      2\u001b[0m t1 \u001b[38;5;241m=\u001b[39m (\u001b[38;5;241m1\u001b[39m, \u001b[38;5;241m2\u001b[39m,\u001b[38;5;124m'\u001b[39m\u001b[38;5;124ma\u001b[39m\u001b[38;5;124m'\u001b[39m, \u001b[38;5;124m'\u001b[39m\u001b[38;5;124mb\u001b[39m\u001b[38;5;124m'\u001b[39m)\n\u001b[1;32m----> 3\u001b[0m t1[\u001b[38;5;241m0\u001b[39m] \u001b[38;5;241m=\u001b[39m \u001b[38;5;124m'\u001b[39m\u001b[38;5;124mc\u001b[39m\u001b[38;5;124m'\u001b[39m\n",
      "\u001b[1;31mTypeError\u001b[0m: 'tuple' object does not support item assignment"
     ]
    }
   ],
   "source": [
    "# 튜플 요소값을 변경할때\n",
    "t1 = (1, 2,'a', 'b')\n",
    "t1[0] = 'c'"
   ]
  },
  {
   "cell_type": "code",
   "execution_count": 167,
   "id": "e5c756a9-3c7d-4b44-99c9-cfa3bbf5580c",
   "metadata": {},
   "outputs": [
    {
     "name": "stdout",
     "output_type": "stream",
     "text": [
      "1\n",
      "b\n"
     ]
    }
   ],
   "source": [
    "# 튜플 다루기\n",
    "\n",
    "#인덱싱하기\n",
    "t1 = (1, 2, 'a', 'b')\n",
    "print(t1[0])\n",
    "print(t1[3])"
   ]
  },
  {
   "cell_type": "code",
   "execution_count": 169,
   "id": "f90daa15-15dc-4986-84fc-8a8ab8064ac0",
   "metadata": {},
   "outputs": [
    {
     "name": "stdout",
     "output_type": "stream",
     "text": [
      "(2, 'a', 'b')\n"
     ]
    }
   ],
   "source": [
    "#슬라이싱하기\n",
    "t1 = (1, 2, 'a', 'b')\n",
    "print(t1[1:])\n"
   ]
  },
  {
   "cell_type": "code",
   "execution_count": 175,
   "id": "298e2ea5-5187-4a90-80d5-befd64047a13",
   "metadata": {},
   "outputs": [
    {
     "name": "stdout",
     "output_type": "stream",
     "text": [
      "(1, 2, 'a', 'b', 3, 4)\n",
      "(3, 4, 3, 4, 3, 4)\n"
     ]
    },
    {
     "data": {
      "text/plain": [
       "4"
      ]
     },
     "execution_count": 175,
     "metadata": {},
     "output_type": "execute_result"
    }
   ],
   "source": [
    "# 튜플 더하기\n",
    "t1 = (1, 2, 'a', 'b')\n",
    "t2 = (3, 4)\n",
    "t3 = t1 + t2\n",
    "print(t3)\n",
    "\n",
    "#튜플 곱하기\n",
    "t2 = (3, 4)\n",
    "t3 = t2 * 3\n",
    "print(t3)\n",
    "\n",
    "#튜플 길이 구하기\n",
    "len(t1)"
   ]
  },
  {
   "cell_type": "markdown",
   "id": "e2f72c9a-ce40-4e71-9724-b0a6aaf9718d",
   "metadata": {},
   "source": [
    "### 5.딕셔너리\n",
    "- key, value로 이뤄진 값\n",
    "- key를 통해 value를 얻는다"
   ]
  },
  {
   "cell_type": "code",
   "execution_count": 188,
   "id": "140c1ac8-ad52-4cac-afe2-b3109e6a6bca",
   "metadata": {},
   "outputs": [
    {
     "name": "stdout",
     "output_type": "stream",
     "text": [
      "{'name': 'pey', 'phone': '010-9999-1234', 'birth': '1118'}\n",
      "{1: 'hi'}\n",
      "{'a': [1, 2, 3]}\n",
      "{'a': (1, 2, 3)}\n"
     ]
    }
   ],
   "source": [
    "dic = {'name': 'pey', 'phone': '010-9999-1234', 'birth': '1118'}\n",
    "print(dic)\n",
    "\n",
    "a = {1: 'hi'}\n",
    "b = {'a': [1, 2, 3]}\n",
    "c = {'a': (1, 2, 3)}\n",
    "print(a)\n",
    "print(b)\n",
    "print(c)"
   ]
  },
  {
   "cell_type": "code",
   "execution_count": 21,
   "id": "e0abba72-48c6-4c91-9e64-a1ef1a73c27d",
   "metadata": {},
   "outputs": [
    {
     "name": "stdout",
     "output_type": "stream",
     "text": [
      "{1: 'a', 2: 'b'}\n",
      "{1: 'a', 2: 'b', 'name': 'pey'}\n",
      "{1: 'a', 2: 'b', 'name': 'pey', 'list': [1, 2, 3]}\n",
      "{1: 'a', 2: 'b', 'name': 'jack', 'list': [1, 2, 3]}\n",
      "{2: 'b', 'name': 'jack', 'list': [1, 2, 3]}\n"
     ]
    }
   ],
   "source": [
    "# 딕셔너리 추가\n",
    "a = {1: 'a'}\n",
    "a[2] = 'b' # {2: 'b'} 추가\n",
    "print(a)\n",
    "\n",
    "a['name'] = 'pey' # {'name': 'pey'} 추가\n",
    "print(a)\n",
    "\n",
    "a['list'] = [1, 2, 3] # {'list': [1, 2, 3]} 추가\n",
    "print(a)\n",
    "\n",
    "#딕셔너리 수정\n",
    "a['name'] = 'jack'\n",
    "print(a)\n",
    "\n",
    "\n",
    "# 딕셔너리 삭제\n",
    "del a[1] # key가 1인 값 삭제\n",
    "print(a)"
   ]
  },
  {
   "cell_type": "code",
   "execution_count": 25,
   "id": "03ef513a-d3bd-46a6-b55d-df76c544c6c7",
   "metadata": {},
   "outputs": [
    {
     "name": "stdout",
     "output_type": "stream",
     "text": [
      "10\n",
      "99\n",
      "a\n",
      "b\n"
     ]
    }
   ],
   "source": [
    "#딕셔너리 사용하기 - key를 사용해 value를 얻는다\n",
    "\n",
    "grade = {'pey': 10, 'julliet': 99}\n",
    "print(grade['pey'])\n",
    "print(grade['julliet'])\n",
    "\n",
    "a = {1: 'a', 2: 'b'}\n",
    "print(a[1])\n",
    "print(a[2])"
   ]
  },
  {
   "cell_type": "code",
   "execution_count": 17,
   "id": "ca70945a-2da8-4792-b764-0cef3f663681",
   "metadata": {},
   "outputs": [
    {
     "name": "stdout",
     "output_type": "stream",
     "text": [
      "{1: 'b'}\n",
      "hi\n"
     ]
    }
   ],
   "source": [
    "# 딕셔너리 사용시 주의사항\n",
    "\n",
    "# key는 중복될 수 없다\n",
    "a = {1: 'a', 1: 'b'}\n",
    "print(a)\n",
    "\n",
    "# key는 변하면 안되는 값이므로 list 사용 X, 튜플 사용 O\n",
    "# a = {[1,2]: 'hi'}\n",
    "# print(a)\n",
    "\n",
    "a = {(1,2): 'hi'}\n",
    "print(a[(1,2)])"
   ]
  },
  {
   "cell_type": "code",
   "execution_count": 276,
   "id": "5ab9dd91-97bd-45f6-9e77-9056907427c1",
   "metadata": {},
   "outputs": [
    {
     "name": "stdout",
     "output_type": "stream",
     "text": [
      "dict_keys(['name', 'phone', 'birth'])\n",
      "name\n",
      "phone\n",
      "birth\n",
      "['name', 'phone', 'birth']\n",
      "==================================================\n",
      "dict_values(['pey', '010-9999-1234', '1118'])\n",
      "dict_items([('name', 'pey'), ('phone', '010-9999-1234'), ('birth', '1118')])\n",
      "{}\n",
      "==================================================\n",
      "pey\n",
      "010-9999-1234\n",
      "None\n",
      "default\n",
      "==================================================\n",
      "True\n",
      "False\n"
     ]
    }
   ],
   "source": [
    "# 딕셔너리 관련 함수\n",
    "\n",
    "# key 리스트 얻기\n",
    "a = {'name': 'pey', 'phone': '010-9999-1234', 'birth': '1118'}\n",
    "print(a.keys()) # dict_keys반환\n",
    "\n",
    "for k in a.keys(): # dict_keys객체에서 key값 구하기\n",
    "    print(k)\n",
    "\n",
    "print(list(a.keys())) # dict_keys객체를 list로 바꿈\n",
    "\n",
    "print(\"=\"*50)\n",
    "\n",
    "# value 리스트 구하기\n",
    "print(a.values())\n",
    "\n",
    "# key, value 쌍 얻기\n",
    "print(a.items())\n",
    "\n",
    "#key, value쌍 모두 지우기\n",
    "a.clear()\n",
    "print(a)\n",
    "\n",
    "print(\"=\"*50)\n",
    "\n",
    "# key로 value얻기\n",
    "a = {'name': 'pey', 'phone': '010-9999-1234', 'birth': '1118'}\n",
    "print(a.get('name'))\n",
    "print(a.get('phone'))\n",
    "\n",
    "print(a.get('nokey')) # None 리턴\n",
    "# print(a['nokey']) 오류 발생\n",
    "print(a.get('nokey', 'default')) #값이 없을 경우 디폴트 값 지정\n",
    "\n",
    "print(\"=\"*50)\n",
    "\n",
    "#해당 key가 딕셔너리 안에 있는지 조사하기\n",
    "print('name' in a)\n",
    "print('email' in a)"
   ]
  },
  {
   "cell_type": "markdown",
   "id": "cfda54da-bee9-41ba-b55e-56e849d5561b",
   "metadata": {},
   "source": [
    "### 6.집합\n",
    "- 집합에 관련된 것을 쉽게 처리하기 위해 만든 자료형\n",
    "- set을 사용: 중복허용 X, 순서가 X"
   ]
  },
  {
   "cell_type": "code",
   "execution_count": 188,
   "id": "d8b7b859-8b11-4eae-a89d-1380d3e19930",
   "metadata": {},
   "outputs": [
    {
     "name": "stdout",
     "output_type": "stream",
     "text": [
      "{1, 2, 3, 4, 5}\n",
      "{'o', 'h', 'e', 'l'}\n",
      "set()\n"
     ]
    }
   ],
   "source": [
    "#집합 자료형 사용하기\n",
    "s1 = set([1, 2, 3, 4, 5])\n",
    "print(s1)\n",
    "\n",
    "# set의 특징: 중복허용 X, 순서가 없다.\n",
    "s2 = set(\"hello\")\n",
    "print(s2)\n",
    "\n",
    "s3 = set()\n",
    "print(s3) # 비어있는 자료형"
   ]
  },
  {
   "cell_type": "code",
   "execution_count": 186,
   "id": "b67b2a2e-a549-42e5-8246-e2b582dede6f",
   "metadata": {},
   "outputs": [
    {
     "name": "stdout",
     "output_type": "stream",
     "text": [
      "[1, 2, 3]\n",
      "1\n",
      "(1, 2, 3)\n",
      "tuple[0]\n"
     ]
    }
   ],
   "source": [
    "# 집합 데이터 구하기\n",
    "# set은 순서가 없기 때문에 인덱스를 통해 요소 값을 얻을 수 없다. -> 값을 얻고 싶다면 리스트나 튜플로 변환 후 값을 얻어야 한다.\n",
    "\n",
    "s1 = set([1, 2, 3])\n",
    "list1 = list(s1)\n",
    "print(list1)\n",
    "print(list1[0])\n",
    "\n",
    "tuple1 = tuple(s1)\n",
    "print(tuple1)\n",
    "print(tuple[0])"
   ]
  },
  {
   "cell_type": "code",
   "execution_count": 70,
   "id": "f0cc13b4-3f42-48e4-842e-3d1b136e1788",
   "metadata": {},
   "outputs": [
    {
     "name": "stdout",
     "output_type": "stream",
     "text": [
      "{4, 5, 6}\n",
      "{4, 5, 6}\n",
      "{1, 2, 3, 4, 5, 6, 7, 8, 9}\n",
      "{1, 2, 3, 4, 5, 6, 7, 8, 9}\n"
     ]
    }
   ],
   "source": [
    "# 교집합, 합집합, 차집합 구하기: set에서 가장 유용하게 사용\n",
    "\n",
    "s1 = set([1, 2, 3, 4, 5, 6])\n",
    "s2 = set([4, 5, 6, 7, 8, 9])\n",
    "\n",
    "print(s1 & s2) # 교집합\n",
    "print(s1.intersection(s2)) # 교집합 함수\n",
    "\n",
    "print(s1 | s2) # 합집합(중복은 제거해서 보여준다)\n",
    "print(s1.union(s2)) # 합집합 함수\n",
    "\n"
   ]
  },
  {
   "cell_type": "code",
   "execution_count": 72,
   "id": "6aabaa9d-9e07-4cad-a8cf-690c4cae42ea",
   "metadata": {},
   "outputs": [
    {
     "name": "stdout",
     "output_type": "stream",
     "text": [
      "{1, 2, 3}\n",
      "{8, 9, 7}\n",
      "{1, 2, 3}\n",
      "{8, 9, 7}\n"
     ]
    }
   ],
   "source": [
    "print(s1 - s2) # 차집합\n",
    "print(s2 - s1) \n",
    "print(s1.difference(s2)) # 차집합 함수\n",
    "print(s2.difference(s1)) "
   ]
  },
  {
   "cell_type": "code",
   "execution_count": 78,
   "id": "a3a32124-8c8b-45f1-93d9-6a051bdc9b23",
   "metadata": {},
   "outputs": [
    {
     "name": "stdout",
     "output_type": "stream",
     "text": [
      "{1, 2, 3, 4}\n",
      "{1, 2, 3, 4, 5, 6}\n",
      "{1, 3, 4, 5, 6}\n"
     ]
    }
   ],
   "source": [
    "# 집합 관련 함수\n",
    "\n",
    "s1 = set([1, 2, 3])\n",
    "\n",
    "#값 추가하기\n",
    "s1.add(4)\n",
    "print(s1)\n",
    "\n",
    "#값 여러개 추가하기\n",
    "s1.update([4, 5, 6])\n",
    "print(s1)\n",
    "\n",
    "# 특정 값 제거하기 \n",
    "s1.remove(2)\n",
    "print(s1)"
   ]
  },
  {
   "cell_type": "markdown",
   "id": "590ffc53-bad5-4f0d-88cb-95950aafb204",
   "metadata": {},
   "source": [
    "### 7. 불자료형\n",
    "- 참과 거짓을 나타내는 자료형\n",
    "- True: 참, False: 거짓"
   ]
  },
  {
   "cell_type": "code",
   "execution_count": 88,
   "id": "1c09e2c0-19d7-4c15-9bc6-8a7155f8dcb4",
   "metadata": {},
   "outputs": [
    {
     "name": "stdout",
     "output_type": "stream",
     "text": [
      "<class 'bool'>\n",
      "<class 'bool'>\n"
     ]
    }
   ],
   "source": [
    "# 불자료형 사용하기1\n",
    "a = True\n",
    "b = False\n",
    "\n",
    "print(type(a))\n",
    "print(type(b))"
   ]
  },
  {
   "cell_type": "code",
   "execution_count": 96,
   "id": "872e2ea8-049e-4a05-9758-966d5d8ac05e",
   "metadata": {},
   "outputs": [
    {
     "name": "stdout",
     "output_type": "stream",
     "text": [
      "True\n",
      "False\n",
      "False\n"
     ]
    }
   ],
   "source": [
    "# 불자료형 사용하기2\n",
    "print(1 == 1) # 두 숫자가 같은가? -> 같다(참)\n",
    "print(1 != 1) # 두 숫자가 같지 않은가? -> 같지않다(거짓)\n",
    "print(1 > 2) # 1은 2보다 큰가? -> 크지않다(거짓)"
   ]
  },
  {
   "cell_type": "code",
   "execution_count": 110,
   "id": "8d3adf2d-8c45-4a0a-9ffa-1ab9b24ceb86",
   "metadata": {},
   "outputs": [
    {
     "name": "stdout",
     "output_type": "stream",
     "text": [
      "1과 1은 같다\n",
      "문자열은 true\n",
      "리스트는 true\n"
     ]
    }
   ],
   "source": [
    "# 자료형의 참과 거짓\n",
    "if 1 == 1:\n",
    "    print('1과 1은 같다')\n",
    "\n",
    "if 1 != 1:\n",
    "    print('1과 1은 같지 않다')\n",
    "\n",
    "if \"hi\":\n",
    "    print('문자열은 true')\n",
    "    \n",
    "if [1, 2, 3]:\n",
    "    print('리스트는 true')"
   ]
  },
  {
   "cell_type": "code",
   "execution_count": 190,
   "id": "4bb92e5a-9c38-4d59-8d73-8d9db4cab67e",
   "metadata": {},
   "outputs": [
    {
     "name": "stdout",
     "output_type": "stream",
     "text": [
      "False\n",
      "True\n",
      "True\n",
      "True\n",
      "False\n",
      "True\n"
     ]
    }
   ],
   "source": [
    "#불 함수\n",
    "print(bool(1 > 2))\n",
    "print(bool(\"hi\"))\n",
    "print(bool([1, 2, 3]))\n",
    "print(bool((1, 2, 3)))\n",
    "print(bool(0))\n",
    "print(bool(2))"
   ]
  },
  {
   "cell_type": "markdown",
   "id": "088b6a76-d85a-4de1-a3a4-3f8413b42430",
   "metadata": {},
   "source": [
    "### 8. 변수"
   ]
  },
  {
   "cell_type": "code",
   "execution_count": 192,
   "id": "956959a6-353b-4f7a-8af3-65580d82850c",
   "metadata": {},
   "outputs": [
    {
     "name": "stdout",
     "output_type": "stream",
     "text": [
      "python\n",
      "python\n"
     ]
    }
   ],
   "source": [
    "# 변수를 만드는 여러가지 방법\n",
    "\n",
    "# 여러개의 변수에 한번에 값을 대입\n",
    "a = b = 'python'\n",
    "print(a)\n",
    "print(b)"
   ]
  },
  {
   "cell_type": "code",
   "execution_count": 194,
   "id": "142ade9e-d29d-4d7b-ae04-b8b2361e3cb5",
   "metadata": {},
   "outputs": [
    {
     "name": "stdout",
     "output_type": "stream",
     "text": [
      "python\n",
      "life\n"
     ]
    }
   ],
   "source": [
    "# 튜플로 여러개의 변수에 한번에 값을 대입\n",
    "a, b = ('python', 'life') \n",
    "#(a, b) = 'python', 'life'\n",
    "print(a)\n",
    "print(b)\n"
   ]
  },
  {
   "cell_type": "code",
   "execution_count": 196,
   "id": "d3b8880d-c3bb-41e5-bd37-ccdd501b405a",
   "metadata": {},
   "outputs": [
    {
     "name": "stdout",
     "output_type": "stream",
     "text": [
      "python\n",
      "life\n"
     ]
    }
   ],
   "source": [
    "# 리스트로 여러개의 변수에 한번에 값을 대입\n",
    "a, b = ['python', 'life']\n",
    "# [a, b] = 'python', 'life'\n",
    "print(a)\n",
    "print(b)"
   ]
  }
 ],
 "metadata": {
  "kernelspec": {
   "display_name": "Python 3 (ipykernel)",
   "language": "python",
   "name": "python3"
  },
  "language_info": {
   "codemirror_mode": {
    "name": "ipython",
    "version": 3
   },
   "file_extension": ".py",
   "mimetype": "text/x-python",
   "name": "python",
   "nbconvert_exporter": "python",
   "pygments_lexer": "ipython3",
   "version": "3.12.4"
  }
 },
 "nbformat": 4,
 "nbformat_minor": 5
}
