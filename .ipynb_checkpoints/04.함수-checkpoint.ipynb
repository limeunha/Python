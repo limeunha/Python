{
 "cells": [
  {
   "cell_type": "markdown",
   "id": "376f66f0-95be-495a-8ccd-3c02473a43c6",
   "metadata": {},
   "source": [
    "### 1. 함수의 정의와 사용"
   ]
  },
  {
   "cell_type": "code",
   "execution_count": 5,
   "id": "ea5e3441-5c96-4e77-8453-766a1639aa8f",
   "metadata": {},
   "outputs": [
    {
     "name": "stdout",
     "output_type": "stream",
     "text": [
      "3\n"
     ]
    }
   ],
   "source": [
    "# 파이썬에서 함수 사용\n",
    "\n",
    "#함수 정의\n",
    "def add(a, b):\n",
    "\treturn a + b\n",
    "\n",
    "#함수 실행\n",
    "c = add(1, 2)\n",
    "print(c)\n"
   ]
  },
  {
   "cell_type": "code",
   "execution_count": 11,
   "id": "9cf2e914-d506-4a71-8eaf-8366a87dccb8",
   "metadata": {},
   "outputs": [
    {
     "name": "stdout",
     "output_type": "stream",
     "text": [
      "3\n"
     ]
    }
   ],
   "source": [
    "#함수 정의\n",
    "def add(a, b):\n",
    "\treturn a + b\n",
    "\n",
    "# 여기서 a와 b 변수는 add()함수의 매개변수와 관련 X\n",
    "a = 1\n",
    "b = 2\n",
    "\n",
    "#함수 실행\n",
    "c = add(a, b)\n",
    "print(c)"
   ]
  },
  {
   "cell_type": "code",
   "execution_count": 27,
   "id": "1312ac56-63ee-4dff-adb0-72c829f5eada",
   "metadata": {},
   "outputs": [
    {
     "name": "stdout",
     "output_type": "stream",
     "text": [
      "hi\n"
     ]
    }
   ],
   "source": [
    "# 파이썬에서 함수의 여러가지 사용\n",
    "# 1. 매개변수가 없는 경우\n",
    "\n",
    "def say():\n",
    "\treturn 'hi'\n",
    "\n",
    "a = say()\n",
    "print(a)\n"
   ]
  },
  {
   "cell_type": "code",
   "execution_count": 29,
   "id": "99ac6d1c-c025-4e18-a41a-e0c650291307",
   "metadata": {},
   "outputs": [
    {
     "name": "stdout",
     "output_type": "stream",
     "text": [
      "합: 3\n"
     ]
    }
   ],
   "source": [
    "# 파이썬에서 함수의 여러가지 사용\n",
    "# 2. 리턴값이 없는 경우\n",
    "def add(a, b):\n",
    "\tprint('합:', a + b)\n",
    "\n",
    "#리턴값이 없는 경우는 함수 실행시 받을 값이 없으므로 값을 받는 변수를 사용하지 않습니다.\n",
    "#다만 함수 실행시 함수 내의 print(“합: ”, a  + b) 코드는 실행이 되므로 ‘합: 3’ 이 출력됩니다.\n",
    "\n",
    "add(1, 2)"
   ]
  },
  {
   "cell_type": "code",
   "execution_count": 31,
   "id": "8fc56980-e943-45b8-a99c-298fc543687c",
   "metadata": {},
   "outputs": [
    {
     "name": "stdout",
     "output_type": "stream",
     "text": [
      "hi\n"
     ]
    }
   ],
   "source": [
    "# 파이썬에서 함수의 여러가지 사용\n",
    "# 3. 매개변수와 리턴값 둘다 없는 경우\n",
    "\n",
    "def say():\n",
    "\tprint('hi')\n",
    "\n",
    "say()"
   ]
  },
  {
   "cell_type": "markdown",
   "id": "16142d6b-55a4-4a17-8729-29e3995c5b5b",
   "metadata": {},
   "source": [
    "### 2. 매개변수의 다양한 활용과 리턴값"
   ]
  },
  {
   "cell_type": "code",
   "execution_count": 38,
   "id": "0a6b76d6-c06f-4983-86dd-00a5f24fc366",
   "metadata": {},
   "outputs": [
    {
     "name": "stdout",
     "output_type": "stream",
     "text": [
      "4\n",
      "4\n"
     ]
    }
   ],
   "source": [
    "# 인수의 값 지정: 함수를 호출할 때 인수 값 지정 가능\n",
    "def sub(a, b):\n",
    "\treturn a - b\n",
    "\n",
    "result = sub(a=7, b=3)\n",
    "print(result)\n",
    "\n",
    "# 순서를 바꿔도 상관 X\n",
    "result = sub(b=3, a=7)\n",
    "print(result)\n"
   ]
  },
  {
   "cell_type": "code",
   "execution_count": 14,
   "id": "5eda3a3a-20f9-49c2-917f-5998c1416dd6",
   "metadata": {},
   "outputs": [
    {
     "name": "stdout",
     "output_type": "stream",
     "text": [
      "6\n",
      "55\n"
     ]
    }
   ],
   "source": [
    "#매개변수가 몇개가 될지 모르는 경우는?\n",
    "\n",
    "def add_many(*args):\n",
    "    result = 0\n",
    "    for i in args:\n",
    "        result += i\n",
    "    return result\n",
    "\n",
    "a = add_many(1, 2, 3)\n",
    "print(a) \n",
    "\n",
    "a = add_many(1, 2, 3, 4, 5, 6, 7, 8, 9, 10)\n",
    "print(a) "
   ]
  },
  {
   "cell_type": "code",
   "execution_count": 20,
   "id": "902c31e1-2362-4f10-817a-ca75afcf2df1",
   "metadata": {},
   "outputs": [
    {
     "name": "stdout",
     "output_type": "stream",
     "text": [
      "6\n",
      "6\n"
     ]
    }
   ],
   "source": [
    "def add_mul(choice, *args):\n",
    "    if choice == 'add':\n",
    "        result = 0\n",
    "        for i in args:\n",
    "            result += i\n",
    "    elif choice == 'mul':\n",
    "        result = 1\n",
    "        for i in args:\n",
    "            result *= i\n",
    "    return result\n",
    "\n",
    "a = add_mul('add', 1, 2, 3)\n",
    "print(a) \n",
    "\n",
    "a = add_mul('mul', 1, 2, 3)\n",
    "print(a) "
   ]
  },
  {
   "cell_type": "code",
   "execution_count": 22,
   "id": "617f08f8-c8d7-49b8-9f26-680b331e9666",
   "metadata": {},
   "outputs": [
    {
     "name": "stdout",
     "output_type": "stream",
     "text": [
      "{'a': 1}\n",
      "{'name': 'foo', 'age': 3}\n"
     ]
    }
   ],
   "source": [
    "# 키워드 매개변수, kwargs\n",
    "\n",
    "def print_kw(**kw):\n",
    "    print(kw) # 딕셔너리 자료형으로 값을 보여줌\n",
    "\n",
    "print_kw(a=1)\n",
    "print_kw(name='foo', age=3)"
   ]
  },
  {
   "cell_type": "code",
   "execution_count": 32,
   "id": "a39cfea2-1a9f-4980-b565-c452f5be3264",
   "metadata": {},
   "outputs": [
    {
     "name": "stdout",
     "output_type": "stream",
     "text": [
      "(7, 12)\n",
      "7\n",
      "12\n"
     ]
    }
   ],
   "source": [
    "# 함수에서 리턴값이 여러개 일때\n",
    "def add_and_mul(a, b):\n",
    "    return a + b, a * b\n",
    "\n",
    "result = add_and_mul(3, 4)\n",
    "print(result) # 결과는 하나의 튜플로 값을 받게 된다\n",
    "\n",
    "#만약에 튜플 값을 2개의 값으로 분리하여 받고 싶다면..\n",
    "result1, result2 = add_and_mul(3, 4)\n",
    "print(result1)\n",
    "print(result2)"
   ]
  },
  {
   "cell_type": "code",
   "execution_count": 32,
   "id": "5177ab25-a316-4eb0-8764-3f95b72c7abf",
   "metadata": {},
   "outputs": [
    {
     "name": "stdout",
     "output_type": "stream",
     "text": [
      "7\n"
     ]
    }
   ],
   "source": [
    "# 함수의 리턴문은 언제나 하나\n",
    "def add_and_mul(a, b):\n",
    "    return a + b\n",
    "    return a * b # 실행되지 않음 -> 함수의 리턴문은 언제나 하나만 사용\n",
    "\n",
    "result = add_and_mul(3, 4)\n",
    "print(result) "
   ]
  },
  {
   "cell_type": "code",
   "execution_count": 46,
   "id": "f989054c-a05b-461f-bf21-d1c14c5d60be",
   "metadata": {},
   "outputs": [
    {
     "name": "stdout",
     "output_type": "stream",
     "text": [
      "나의 별명은 바보입니다\n"
     ]
    }
   ],
   "source": [
    "# return문을 만나면 함수는 종료된다\n",
    "\n",
    "def say_nick(nick):\n",
    "    if nick == '파이썬 천재':\n",
    "        return\n",
    "    print(f'나의 별명은 {nick}입니다')\n",
    "\n",
    "\n",
    "say_nick('바보')\n",
    "say_nick('파이썬 천재') "
   ]
  },
  {
   "cell_type": "code",
   "execution_count": 36,
   "id": "0b706a7b-d180-41f9-9bd5-9794e76f9094",
   "metadata": {},
   "outputs": [
    {
     "name": "stdout",
     "output_type": "stream",
     "text": [
      "나의 이름은 박응용 입니다.\n",
      "나이는 27살입니다.\n",
      "남자입니다.\n",
      "나의 이름은 이응용 입니다.\n",
      "나이는 27살입니다.\n",
      "여자입니다.\n"
     ]
    }
   ],
   "source": [
    "# 매개변수에 초깃값 미리 설정하기\n",
    "\n",
    "def say_myself(name, old, man=True): \n",
    "    print(\"나의 이름은 %s 입니다.\" % name) \n",
    "    print(\"나이는 %d살입니다.\" % old) \n",
    "    if man: \n",
    "        print(\"남자입니다.\")\n",
    "    else: \n",
    "        print(\"여자입니다.\")\n",
    "\n",
    "\n",
    "say_myself(\"박응용\", 27)\n",
    "say_myself(\"이응용\", 27, False)\n"
   ]
  },
  {
   "cell_type": "code",
   "execution_count": 6,
   "id": "6e0321d1-f0c8-458b-b035-d88a07a39ef7",
   "metadata": {},
   "outputs": [
    {
     "ename": "SyntaxError",
     "evalue": "parameter without a default follows parameter with a default (373620176.py, line 3)",
     "output_type": "error",
     "traceback": [
      "\u001b[1;36m  Cell \u001b[1;32mIn[6], line 3\u001b[1;36m\u001b[0m\n\u001b[1;33m    def say_myself(name, man=True, old):\u001b[0m\n\u001b[1;37m                                   ^\u001b[0m\n\u001b[1;31mSyntaxError\u001b[0m\u001b[1;31m:\u001b[0m parameter without a default follows parameter with a default\n"
     ]
    }
   ],
   "source": [
    "#매개변수에 초깃값 설정시 주의\n",
    "\n",
    "def say_myself(name, man=True, old): \n",
    "    print(\"나의 이름은 %s 입니다.\" % name) \n",
    "    print(\"나이는 %d살입니다.\" % old) \n",
    "    if man: \n",
    "        print(\"남자입니다.\") \n",
    "    else: \n",
    "        print(\"여자입니다.\")\n",
    "\n",
    "say_myself(\"박응용\", 27) # 파이썬은 27을 man에 대입해야 할지 old에 대입해야 할지 모르기 때문에 에러발생"
   ]
  },
  {
   "cell_type": "markdown",
   "id": "3f0f988f-8389-436c-99aa-8e7baee6430f",
   "metadata": {},
   "source": [
    "### 3. 함수의 범위"
   ]
  },
  {
   "cell_type": "code",
   "execution_count": 12,
   "id": "46aed29c-5dbc-4a5e-87c2-2e919cd32efc",
   "metadata": {},
   "outputs": [
    {
     "name": "stdout",
     "output_type": "stream",
     "text": [
      "1\n"
     ]
    }
   ],
   "source": [
    "# 함수 안에서 사용할 변수의 이름을 함수 밖에서도 동일하게 사용한다면? \n",
    "\n",
    "a = 1\n",
    "def vartest(a):\n",
    "    a = a + 1\n",
    "\n",
    "vartest(a)\n",
    "\n",
    "print(a) # 함수 안에서 사용하는 매새변수는 함수 안에서만 사용하는 '함수만의 변수' 이므로 1이 출력된다.\n",
    "# 즉 함수안의 a와 함수 밖에 a는 다른 변수이다."
   ]
  },
  {
   "cell_type": "code",
   "execution_count": 58,
   "id": "7743e44c-089a-4cd5-bc58-db27f95714f7",
   "metadata": {},
   "outputs": [
    {
     "ename": "NameError",
     "evalue": "name 'test' is not defined",
     "output_type": "error",
     "traceback": [
      "\u001b[1;31m---------------------------------------------------------------------------\u001b[0m",
      "\u001b[1;31mNameError\u001b[0m                                 Traceback (most recent call last)",
      "Cell \u001b[1;32mIn[58], line 6\u001b[0m\n\u001b[0;32m      3\u001b[0m     test \u001b[38;5;241m=\u001b[39m test \u001b[38;5;241m+\u001b[39m \u001b[38;5;241m1\u001b[39m\n\u001b[0;32m      5\u001b[0m vartest(\u001b[38;5;241m1\u001b[39m)\n\u001b[1;32m----> 6\u001b[0m \u001b[38;5;28mprint\u001b[39m(test)\n",
      "\u001b[1;31mNameError\u001b[0m: name 'test' is not defined"
     ]
    }
   ],
   "source": [
    "# 에러발생\n",
    "def vartest(test):\n",
    "    test = test + 1\n",
    "\n",
    "vartest(1)\n",
    "print(test) # test변수는 함수 안에서 선언했기 때문에 함수 바깥에서 사용할 수 X"
   ]
  },
  {
   "cell_type": "code",
   "execution_count": 2,
   "id": "d962bc37-ca7f-4be4-a877-33ecd0e0a407",
   "metadata": {},
   "outputs": [
    {
     "name": "stdout",
     "output_type": "stream",
     "text": [
      "2\n"
     ]
    }
   ],
   "source": [
    "# 함수 안에서 전역변수 값을 사용하는 방법\n",
    "# vartest 함수를 사용해서 함수 밖의 변수 a를 1만큼 증가할 수 있는 방법\n",
    "\n",
    "# 1. return 사용하기\n",
    "\n",
    "a = 1\n",
    "def vartest(a):\n",
    "    a = a + 1\n",
    "    return a\n",
    "\n",
    "a = vartest(a) # 리턴값을 받아 출력\n",
    "print(a)"
   ]
  },
  {
   "cell_type": "code",
   "execution_count": 76,
   "id": "15d6d8d0-a065-4c0b-adeb-52bd6fed677d",
   "metadata": {},
   "outputs": [
    {
     "name": "stdout",
     "output_type": "stream",
     "text": [
      "2\n"
     ]
    }
   ],
   "source": [
    "# 2. global 명령어 사용하기 \n",
    "\n",
    "a = 1\n",
    "def vartest():\n",
    "    global a # a변수를 전역변수로 사용함: 힘수 밖의 a를 직접적으로 사용하겠다는 뜻\n",
    "    a = a + 1\n",
    "\n",
    "vartest()\n",
    "print(a)"
   ]
  },
  {
   "cell_type": "code",
   "execution_count": 78,
   "id": "f698708e-7480-41c0-9bfa-c890dce11c21",
   "metadata": {},
   "outputs": [
    {
     "name": "stdout",
     "output_type": "stream",
     "text": [
      "3\n"
     ]
    }
   ],
   "source": [
    "# global 명령어 사용 비추 => 함수는 독립적으로 존재하는 것이 좋다. 외부 변수에 종속적인 함수는 그다지 좋지 않으므로 사용하지 않는 것이 좋음 \n",
    "\n",
    "a = 1\n",
    "def vartest():\n",
    "    global a # a변수를 전역변수로 사용함: 힘수 밖의 a를 직접적으로 사용하겠다는 뜻\n",
    "    a = a + 1\n",
    "\n",
    "a = 2 # 다른 개발자가 중간에 코드 추가\n",
    "\n",
    "vartest()\n",
    "print(a) # 결과값 2를 예상했지만 3이 출력된"
   ]
  },
  {
   "cell_type": "code",
   "execution_count": 80,
   "id": "08fac0a2-31e7-4e46-95cb-6b84438e3020",
   "metadata": {},
   "outputs": [
    {
     "name": "stdout",
     "output_type": "stream",
     "text": [
      "7\n"
     ]
    }
   ],
   "source": [
    "def add(a, b):\n",
    "    return a + b\n",
    "\n",
    "result = add(3, 4)\n",
    "print(result)"
   ]
  },
  {
   "cell_type": "code",
   "execution_count": 28,
   "id": "7cd86256-a8f3-4238-85da-43d9cc8ec2c5",
   "metadata": {},
   "outputs": [
    {
     "name": "stdout",
     "output_type": "stream",
     "text": [
      "7\n"
     ]
    }
   ],
   "source": [
    "# lambda 예약어\n",
    "\n",
    "add = lambda a, b: a + b\n",
    "result = add(3, 4)\n",
    "print(result)"
   ]
  }
 ],
 "metadata": {
  "kernelspec": {
   "display_name": "Python 3 (ipykernel)",
   "language": "python",
   "name": "python3"
  },
  "language_info": {
   "codemirror_mode": {
    "name": "ipython",
    "version": 3
   },
   "file_extension": ".py",
   "mimetype": "text/x-python",
   "name": "python",
   "nbconvert_exporter": "python",
   "pygments_lexer": "ipython3",
   "version": "3.12.4"
  }
 },
 "nbformat": 4,
 "nbformat_minor": 5
}
